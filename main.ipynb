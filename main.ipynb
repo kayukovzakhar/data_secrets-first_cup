{
 "cells": [
  {
   "cell_type": "markdown",
   "metadata": {},
   "source": [
    "# Import libraries"
   ]
  },
  {
   "cell_type": "code",
   "execution_count": null,
   "metadata": {},
   "outputs": [],
   "source": [
    "import numpy as np\n",
    "import pandas as pd\n",
    "import matplotlib.pyplot as plt\n",
    "import math\n",
    "\n",
    "from sklearn.preprocessing import StandardScaler, OneHotEncoder\n",
    "from sklearn.pipeline import Pipeline\n",
    "from sklearn.compose import ColumnTransformer\n",
    "from sklearn.model_selection import train_test_split\n",
    "\n",
    "from sklearn.metrics import roc_auc_score\n",
    "from sklearn.metrics import root_mean_squared_error\n",
    "\n",
    "from sklearn.ensemble import RandomForestClassifier\n",
    "from sklearn.ensemble import RandomForestRegressor\n",
    "from sklearn.linear_model import LogisticRegression\n"
   ]
  },
  {
   "cell_type": "code",
   "execution_count": null,
   "metadata": {},
   "outputs": [],
   "source": [
    "import warnings\n",
    "warnings.simplefilter(action='ignore', category=UserWarning)"
   ]
  },
  {
   "cell_type": "markdown",
   "metadata": {},
   "source": [
    "# Data preprocessing"
   ]
  },
  {
   "cell_type": "markdown",
   "metadata": {},
   "source": [
    "## Importing and stuff"
   ]
  },
  {
   "cell_type": "code",
   "execution_count": null,
   "metadata": {},
   "outputs": [],
   "source": [
    "clients_promo_october = pd.read_csv(r'data\\clients_promo_october.csv')\n",
    "mobile_events = pd.read_csv(r'data\\mobile_events.csv')\n",
    "orders = pd.read_csv(r'data\\orders.csv')\n",
    "submit = pd.read_csv(r'data\\submit.csv')\n",
    "test_df = pd.read_csv(r'data\\test.csv')\n",
    "train_target = pd.read_csv(r'data\\train_target.csv')"
   ]
  },
  {
   "cell_type": "code",
   "execution_count": 15,
   "metadata": {},
   "outputs": [
    {
     "data": {
      "text/html": [
       "<div>\n",
       "<style scoped>\n",
       "    .dataframe tbody tr th:only-of-type {\n",
       "        vertical-align: middle;\n",
       "    }\n",
       "\n",
       "    .dataframe tbody tr th {\n",
       "        vertical-align: top;\n",
       "    }\n",
       "\n",
       "    .dataframe thead th {\n",
       "        text-align: right;\n",
       "    }\n",
       "</style>\n",
       "<table border=\"1\" class=\"dataframe\">\n",
       "  <thead>\n",
       "    <tr style=\"text-align: right;\">\n",
       "      <th></th>\n",
       "      <th>ClientUUId</th>\n",
       "      <th>Id</th>\n",
       "      <th>LocalBeginDate</th>\n",
       "      <th>LocalEndDate</th>\n",
       "      <th>OrderType</th>\n",
       "      <th>OrderPrice</th>\n",
       "      <th>Discount</th>\n",
       "    </tr>\n",
       "  </thead>\n",
       "  <tbody>\n",
       "    <tr>\n",
       "      <th>0</th>\n",
       "      <td>000D3A20F23EA95811E7B7104AC23CD3</td>\n",
       "      <td>6</td>\n",
       "      <td>2023-10-12T00:00:00.000Z</td>\n",
       "      <td>2023-10-15T23:59:00.000Z</td>\n",
       "      <td>1,2,3</td>\n",
       "      <td>1299</td>\n",
       "      <td>25</td>\n",
       "    </tr>\n",
       "    <tr>\n",
       "      <th>1</th>\n",
       "      <td>000D3A20F23EA95811E7B7D79FAABAA1</td>\n",
       "      <td>5</td>\n",
       "      <td>2023-10-12T00:00:00.000Z</td>\n",
       "      <td>2023-10-15T23:59:00.000Z</td>\n",
       "      <td>1,2,3</td>\n",
       "      <td>1299</td>\n",
       "      <td>300</td>\n",
       "    </tr>\n",
       "    <tr>\n",
       "      <th>2</th>\n",
       "      <td>000D3A20F23EA95811E7B8BD71C73877</td>\n",
       "      <td>7</td>\n",
       "      <td>2023-10-12T00:00:00.000Z</td>\n",
       "      <td>2023-10-15T23:59:00.000Z</td>\n",
       "      <td>1,2,3</td>\n",
       "      <td>1249</td>\n",
       "      <td>200</td>\n",
       "    </tr>\n",
       "    <tr>\n",
       "      <th>3</th>\n",
       "      <td>000D3A20F23EA95811E7B99F3ED09FC8</td>\n",
       "      <td>6</td>\n",
       "      <td>2023-10-12T00:00:00.000Z</td>\n",
       "      <td>2023-10-15T23:59:00.000Z</td>\n",
       "      <td>1,2,3</td>\n",
       "      <td>1249</td>\n",
       "      <td>30</td>\n",
       "    </tr>\n",
       "    <tr>\n",
       "      <th>4</th>\n",
       "      <td>000D3A20F23EA95811E7BD373E79565E</td>\n",
       "      <td>6</td>\n",
       "      <td>2023-10-12T00:00:00.000Z</td>\n",
       "      <td>2023-10-15T23:59:00.000Z</td>\n",
       "      <td>1,2,3</td>\n",
       "      <td>1299</td>\n",
       "      <td>20</td>\n",
       "    </tr>\n",
       "  </tbody>\n",
       "</table>\n",
       "</div>"
      ],
      "text/plain": [
       "                         ClientUUId  Id            LocalBeginDate  \\\n",
       "0  000D3A20F23EA95811E7B7104AC23CD3   6  2023-10-12T00:00:00.000Z   \n",
       "1  000D3A20F23EA95811E7B7D79FAABAA1   5  2023-10-12T00:00:00.000Z   \n",
       "2  000D3A20F23EA95811E7B8BD71C73877   7  2023-10-12T00:00:00.000Z   \n",
       "3  000D3A20F23EA95811E7B99F3ED09FC8   6  2023-10-12T00:00:00.000Z   \n",
       "4  000D3A20F23EA95811E7BD373E79565E   6  2023-10-12T00:00:00.000Z   \n",
       "\n",
       "               LocalEndDate OrderType  OrderPrice  Discount  \n",
       "0  2023-10-15T23:59:00.000Z     1,2,3        1299        25  \n",
       "1  2023-10-15T23:59:00.000Z     1,2,3        1299       300  \n",
       "2  2023-10-15T23:59:00.000Z     1,2,3        1249       200  \n",
       "3  2023-10-15T23:59:00.000Z     1,2,3        1249        30  \n",
       "4  2023-10-15T23:59:00.000Z     1,2,3        1299        20  "
      ]
     },
     "execution_count": 15,
     "metadata": {},
     "output_type": "execute_result"
    }
   ],
   "source": [
    "clients_promo_october.head()"
   ]
  },
  {
   "cell_type": "code",
   "execution_count": 16,
   "metadata": {},
   "outputs": [
    {
     "data": {
      "text/html": [
       "<div>\n",
       "<style scoped>\n",
       "    .dataframe tbody tr th:only-of-type {\n",
       "        vertical-align: middle;\n",
       "    }\n",
       "\n",
       "    .dataframe tbody tr th {\n",
       "        vertical-align: top;\n",
       "    }\n",
       "\n",
       "    .dataframe thead th {\n",
       "        text-align: right;\n",
       "    }\n",
       "</style>\n",
       "<table border=\"1\" class=\"dataframe\">\n",
       "  <thead>\n",
       "    <tr style=\"text-align: right;\">\n",
       "      <th></th>\n",
       "      <th>ClientUUId</th>\n",
       "      <th>VisitToken</th>\n",
       "      <th>EventName</th>\n",
       "      <th>Platform</th>\n",
       "      <th>Timestamp</th>\n",
       "    </tr>\n",
       "  </thead>\n",
       "  <tbody>\n",
       "    <tr>\n",
       "      <th>0</th>\n",
       "      <td>000D3A22FA54A81611EB315CF5443815</td>\n",
       "      <td>976627AD-76DC-41D9-981E-F2A6CA14B3A9</td>\n",
       "      <td>screen_menu</td>\n",
       "      <td>ios</td>\n",
       "      <td>2023-10-29T16:14:21.343Z</td>\n",
       "    </tr>\n",
       "    <tr>\n",
       "      <th>1</th>\n",
       "      <td>2A4A64AF719E994511EE3F2D8B31E188</td>\n",
       "      <td>5b22e610-c71e-4b6a-a842-71e8575ece87</td>\n",
       "      <td>screen_menu</td>\n",
       "      <td>android</td>\n",
       "      <td>2023-10-29T11:04:36.4840000Z</td>\n",
       "    </tr>\n",
       "    <tr>\n",
       "      <th>2</th>\n",
       "      <td>000D3AAC977BBB2F11ECDD081F5481AE</td>\n",
       "      <td>BDCEB72F-2B6A-4565-801A-6CB729279C6F</td>\n",
       "      <td>open_app</td>\n",
       "      <td>ios</td>\n",
       "      <td>2023-10-29T11:14:34.723Z</td>\n",
       "    </tr>\n",
       "    <tr>\n",
       "      <th>3</th>\n",
       "      <td>000D3A21DA51A81411EAE468856F96F1</td>\n",
       "      <td>A66E2DA6-4E2E-4C37-9FBF-627732623212</td>\n",
       "      <td>add_to_cart</td>\n",
       "      <td>ios</td>\n",
       "      <td>2023-10-29T14:03:08.363Z</td>\n",
       "    </tr>\n",
       "    <tr>\n",
       "      <th>4</th>\n",
       "      <td>000D3A23B0DC80D811E67F4D0A9CA345</td>\n",
       "      <td>1BE8139F-A3D3-439F-A51B-5CBD4D3FFF1B</td>\n",
       "      <td>screen_menu</td>\n",
       "      <td>ios</td>\n",
       "      <td>2023-10-29T08:35:40.127Z</td>\n",
       "    </tr>\n",
       "  </tbody>\n",
       "</table>\n",
       "</div>"
      ],
      "text/plain": [
       "                         ClientUUId                            VisitToken  \\\n",
       "0  000D3A22FA54A81611EB315CF5443815  976627AD-76DC-41D9-981E-F2A6CA14B3A9   \n",
       "1  2A4A64AF719E994511EE3F2D8B31E188  5b22e610-c71e-4b6a-a842-71e8575ece87   \n",
       "2  000D3AAC977BBB2F11ECDD081F5481AE  BDCEB72F-2B6A-4565-801A-6CB729279C6F   \n",
       "3  000D3A21DA51A81411EAE468856F96F1  A66E2DA6-4E2E-4C37-9FBF-627732623212   \n",
       "4  000D3A23B0DC80D811E67F4D0A9CA345  1BE8139F-A3D3-439F-A51B-5CBD4D3FFF1B   \n",
       "\n",
       "     EventName Platform                     Timestamp  \n",
       "0  screen_menu      ios      2023-10-29T16:14:21.343Z  \n",
       "1  screen_menu  android  2023-10-29T11:04:36.4840000Z  \n",
       "2     open_app      ios      2023-10-29T11:14:34.723Z  \n",
       "3  add_to_cart      ios      2023-10-29T14:03:08.363Z  \n",
       "4  screen_menu      ios      2023-10-29T08:35:40.127Z  "
      ]
     },
     "execution_count": 16,
     "metadata": {},
     "output_type": "execute_result"
    }
   ],
   "source": [
    "mobile_events.head()"
   ]
  },
  {
   "cell_type": "code",
   "execution_count": 17,
   "metadata": {},
   "outputs": [
    {
     "data": {
      "text/plain": [
       "(array(['screen_menu', 'open_app', 'add_to_cart', 'close_app',\n",
       "        'create_order', 'screen_profile', 'screen_cart',\n",
       "        'open_product_card', 'apply_personal_offer', 'remove_from_cart',\n",
       "        'open_bonusaction'], dtype=object),\n",
       " (3916654, 5),\n",
       " 26864)"
      ]
     },
     "execution_count": 17,
     "metadata": {},
     "output_type": "execute_result"
    }
   ],
   "source": [
    "mobile_events['EventName'].unique(), mobile_events.shape, mobile_events['EventName'].value_counts()['apply_personal_offer']"
   ]
  },
  {
   "cell_type": "code",
   "execution_count": 18,
   "metadata": {},
   "outputs": [
    {
     "data": {
      "text/html": [
       "<div>\n",
       "<style scoped>\n",
       "    .dataframe tbody tr th:only-of-type {\n",
       "        vertical-align: middle;\n",
       "    }\n",
       "\n",
       "    .dataframe tbody tr th {\n",
       "        vertical-align: top;\n",
       "    }\n",
       "\n",
       "    .dataframe thead th {\n",
       "        text-align: right;\n",
       "    }\n",
       "</style>\n",
       "<table border=\"1\" class=\"dataframe\">\n",
       "  <thead>\n",
       "    <tr style=\"text-align: right;\">\n",
       "      <th></th>\n",
       "      <th>OrderUUId</th>\n",
       "      <th>addressId</th>\n",
       "      <th>deliverySectorId</th>\n",
       "      <th>ClientUUId</th>\n",
       "      <th>Date</th>\n",
       "      <th>SaleDate</th>\n",
       "      <th>UnitUUId</th>\n",
       "      <th>NewClient</th>\n",
       "      <th>ClientOrderNumber</th>\n",
       "      <th>ProductUUId</th>\n",
       "      <th>CategoryId</th>\n",
       "      <th>ProductTotalPrice</th>\n",
       "      <th>MenuPrice</th>\n",
       "      <th>OrderState</th>\n",
       "      <th>OrderPaymentType</th>\n",
       "      <th>OrderTotalPrice</th>\n",
       "      <th>OrderType</th>\n",
       "      <th>apply_promo</th>\n",
       "    </tr>\n",
       "  </thead>\n",
       "  <tbody>\n",
       "    <tr>\n",
       "      <th>0</th>\n",
       "      <td>020DD76CCD949AE011EDE031ED5D76FD</td>\n",
       "      <td>NaN</td>\n",
       "      <td>NaN</td>\n",
       "      <td>000D3AAC9DCABB2E11EBE0614C89D044</td>\n",
       "      <td>2023-04-21</td>\n",
       "      <td>2023-04-21T20:51:26.000Z</td>\n",
       "      <td>000D3A2480C380DA11E692CFB9F92484</td>\n",
       "      <td>0</td>\n",
       "      <td>18</td>\n",
       "      <td>000D3A240C71BE9A11E719BE2AB264A6</td>\n",
       "      <td>4</td>\n",
       "      <td>1.0</td>\n",
       "      <td>45.0</td>\n",
       "      <td>4</td>\n",
       "      <td>2</td>\n",
       "      <td>1.0</td>\n",
       "      <td>3</td>\n",
       "      <td>0</td>\n",
       "    </tr>\n",
       "    <tr>\n",
       "      <th>1</th>\n",
       "      <td>02164D9B0F67BC3311EE610987AF48C7</td>\n",
       "      <td>0.0</td>\n",
       "      <td>0.0</td>\n",
       "      <td>000D3A21DA51A81411EAF10674007D74</td>\n",
       "      <td>2023-10-02</td>\n",
       "      <td>2023-10-02T21:31:32.000Z</td>\n",
       "      <td>000D3A26B5B080DF11E745FD0474B95C</td>\n",
       "      <td>0</td>\n",
       "      <td>29</td>\n",
       "      <td>11EC9AABAD354BE051CCF1EE1F83A8D0</td>\n",
       "      <td>1</td>\n",
       "      <td>485.0</td>\n",
       "      <td>485.0</td>\n",
       "      <td>4</td>\n",
       "      <td>2</td>\n",
       "      <td>1164.0</td>\n",
       "      <td>1</td>\n",
       "      <td>0</td>\n",
       "    </tr>\n",
       "    <tr>\n",
       "      <th>2</th>\n",
       "      <td>02164D9B0F67BC3311EE610987AF48C7</td>\n",
       "      <td>0.0</td>\n",
       "      <td>0.0</td>\n",
       "      <td>000D3A21DA51A81411EAF10674007D74</td>\n",
       "      <td>2023-10-02</td>\n",
       "      <td>2023-10-02T21:31:32.000Z</td>\n",
       "      <td>000D3A26B5B080DF11E745FD0474B95C</td>\n",
       "      <td>0</td>\n",
       "      <td>29</td>\n",
       "      <td>11EB846583CB3BDEA80D1A7F2E184D40</td>\n",
       "      <td>1</td>\n",
       "      <td>589.0</td>\n",
       "      <td>589.0</td>\n",
       "      <td>4</td>\n",
       "      <td>2</td>\n",
       "      <td>1164.0</td>\n",
       "      <td>1</td>\n",
       "      <td>0</td>\n",
       "    </tr>\n",
       "    <tr>\n",
       "      <th>3</th>\n",
       "      <td>02164D9B0F67BC3311EE610987AF48C7</td>\n",
       "      <td>0.0</td>\n",
       "      <td>0.0</td>\n",
       "      <td>000D3A21DA51A81411EAF10674007D74</td>\n",
       "      <td>2023-10-02</td>\n",
       "      <td>2023-10-02T21:31:32.000Z</td>\n",
       "      <td>000D3A26B5B080DF11E745FD0474B95C</td>\n",
       "      <td>0</td>\n",
       "      <td>29</td>\n",
       "      <td>000D3A240C71BE9A11E719BE2AB267FD</td>\n",
       "      <td>4</td>\n",
       "      <td>45.0</td>\n",
       "      <td>45.0</td>\n",
       "      <td>4</td>\n",
       "      <td>2</td>\n",
       "      <td>1164.0</td>\n",
       "      <td>1</td>\n",
       "      <td>0</td>\n",
       "    </tr>\n",
       "    <tr>\n",
       "      <th>4</th>\n",
       "      <td>02164D9B0F67BC3311EE610987AF48C7</td>\n",
       "      <td>0.0</td>\n",
       "      <td>0.0</td>\n",
       "      <td>000D3A21DA51A81411EAF10674007D74</td>\n",
       "      <td>2023-10-02</td>\n",
       "      <td>2023-10-02T21:31:32.000Z</td>\n",
       "      <td>000D3A26B5B080DF11E745FD0474B95C</td>\n",
       "      <td>0</td>\n",
       "      <td>29</td>\n",
       "      <td>000D3A240C71BE9A11E719BE2AB264A6</td>\n",
       "      <td>4</td>\n",
       "      <td>45.0</td>\n",
       "      <td>45.0</td>\n",
       "      <td>4</td>\n",
       "      <td>2</td>\n",
       "      <td>1164.0</td>\n",
       "      <td>1</td>\n",
       "      <td>0</td>\n",
       "    </tr>\n",
       "  </tbody>\n",
       "</table>\n",
       "</div>"
      ],
      "text/plain": [
       "                          OrderUUId  addressId  deliverySectorId  \\\n",
       "0  020DD76CCD949AE011EDE031ED5D76FD        NaN               NaN   \n",
       "1  02164D9B0F67BC3311EE610987AF48C7        0.0               0.0   \n",
       "2  02164D9B0F67BC3311EE610987AF48C7        0.0               0.0   \n",
       "3  02164D9B0F67BC3311EE610987AF48C7        0.0               0.0   \n",
       "4  02164D9B0F67BC3311EE610987AF48C7        0.0               0.0   \n",
       "\n",
       "                         ClientUUId        Date                  SaleDate  \\\n",
       "0  000D3AAC9DCABB2E11EBE0614C89D044  2023-04-21  2023-04-21T20:51:26.000Z   \n",
       "1  000D3A21DA51A81411EAF10674007D74  2023-10-02  2023-10-02T21:31:32.000Z   \n",
       "2  000D3A21DA51A81411EAF10674007D74  2023-10-02  2023-10-02T21:31:32.000Z   \n",
       "3  000D3A21DA51A81411EAF10674007D74  2023-10-02  2023-10-02T21:31:32.000Z   \n",
       "4  000D3A21DA51A81411EAF10674007D74  2023-10-02  2023-10-02T21:31:32.000Z   \n",
       "\n",
       "                           UnitUUId  NewClient  ClientOrderNumber  \\\n",
       "0  000D3A2480C380DA11E692CFB9F92484          0                 18   \n",
       "1  000D3A26B5B080DF11E745FD0474B95C          0                 29   \n",
       "2  000D3A26B5B080DF11E745FD0474B95C          0                 29   \n",
       "3  000D3A26B5B080DF11E745FD0474B95C          0                 29   \n",
       "4  000D3A26B5B080DF11E745FD0474B95C          0                 29   \n",
       "\n",
       "                        ProductUUId  CategoryId  ProductTotalPrice  MenuPrice  \\\n",
       "0  000D3A240C71BE9A11E719BE2AB264A6           4                1.0       45.0   \n",
       "1  11EC9AABAD354BE051CCF1EE1F83A8D0           1              485.0      485.0   \n",
       "2  11EB846583CB3BDEA80D1A7F2E184D40           1              589.0      589.0   \n",
       "3  000D3A240C71BE9A11E719BE2AB267FD           4               45.0       45.0   \n",
       "4  000D3A240C71BE9A11E719BE2AB264A6           4               45.0       45.0   \n",
       "\n",
       "   OrderState  OrderPaymentType  OrderTotalPrice  OrderType  apply_promo  \n",
       "0           4                 2              1.0          3            0  \n",
       "1           4                 2           1164.0          1            0  \n",
       "2           4                 2           1164.0          1            0  \n",
       "3           4                 2           1164.0          1            0  \n",
       "4           4                 2           1164.0          1            0  "
      ]
     },
     "execution_count": 18,
     "metadata": {},
     "output_type": "execute_result"
    }
   ],
   "source": [
    "orders.head()"
   ]
  },
  {
   "cell_type": "code",
   "execution_count": 19,
   "metadata": {},
   "outputs": [
    {
     "data": {
      "text/html": [
       "<div>\n",
       "<style scoped>\n",
       "    .dataframe tbody tr th:only-of-type {\n",
       "        vertical-align: middle;\n",
       "    }\n",
       "\n",
       "    .dataframe tbody tr th {\n",
       "        vertical-align: top;\n",
       "    }\n",
       "\n",
       "    .dataframe thead th {\n",
       "        text-align: right;\n",
       "    }\n",
       "</style>\n",
       "<table border=\"1\" class=\"dataframe\">\n",
       "  <thead>\n",
       "    <tr style=\"text-align: right;\">\n",
       "      <th></th>\n",
       "      <th>apply_promo</th>\n",
       "    </tr>\n",
       "  </thead>\n",
       "  <tbody>\n",
       "    <tr>\n",
       "      <th>0</th>\n",
       "      <td>0.307216</td>\n",
       "    </tr>\n",
       "    <tr>\n",
       "      <th>1</th>\n",
       "      <td>0.917305</td>\n",
       "    </tr>\n",
       "    <tr>\n",
       "      <th>2</th>\n",
       "      <td>0.386569</td>\n",
       "    </tr>\n",
       "    <tr>\n",
       "      <th>3</th>\n",
       "      <td>0.542179</td>\n",
       "    </tr>\n",
       "    <tr>\n",
       "      <th>4</th>\n",
       "      <td>0.536205</td>\n",
       "    </tr>\n",
       "  </tbody>\n",
       "</table>\n",
       "</div>"
      ],
      "text/plain": [
       "   apply_promo\n",
       "0     0.307216\n",
       "1     0.917305\n",
       "2     0.386569\n",
       "3     0.542179\n",
       "4     0.536205"
      ]
     },
     "execution_count": 19,
     "metadata": {},
     "output_type": "execute_result"
    }
   ],
   "source": [
    "submit.head()"
   ]
  },
  {
   "cell_type": "code",
   "execution_count": 20,
   "metadata": {},
   "outputs": [
    {
     "data": {
      "text/plain": [
       "((6806, 1), (6806, 7), (27741, 8))"
      ]
     },
     "execution_count": 20,
     "metadata": {},
     "output_type": "execute_result"
    }
   ],
   "source": [
    "submit.shape, test_df.shape, train_target.shape"
   ]
  },
  {
   "cell_type": "code",
   "execution_count": 21,
   "metadata": {},
   "outputs": [
    {
     "data": {
      "text/html": [
       "<div>\n",
       "<style scoped>\n",
       "    .dataframe tbody tr th:only-of-type {\n",
       "        vertical-align: middle;\n",
       "    }\n",
       "\n",
       "    .dataframe tbody tr th {\n",
       "        vertical-align: top;\n",
       "    }\n",
       "\n",
       "    .dataframe thead th {\n",
       "        text-align: right;\n",
       "    }\n",
       "</style>\n",
       "<table border=\"1\" class=\"dataframe\">\n",
       "  <thead>\n",
       "    <tr style=\"text-align: right;\">\n",
       "      <th></th>\n",
       "      <th>ClientUUId</th>\n",
       "      <th>Id</th>\n",
       "      <th>OrderType</th>\n",
       "      <th>LocalBeginDate</th>\n",
       "      <th>LocalEndDate</th>\n",
       "      <th>OrderPrice</th>\n",
       "      <th>Discount</th>\n",
       "    </tr>\n",
       "  </thead>\n",
       "  <tbody>\n",
       "    <tr>\n",
       "      <th>0</th>\n",
       "      <td>000D3A20F23EA95811E7C0A95563344E</td>\n",
       "      <td>7</td>\n",
       "      <td>2,3</td>\n",
       "      <td>2023-11-02T00:00:00Z</td>\n",
       "      <td>2023-11-05T23:59:00Z</td>\n",
       "      <td>799</td>\n",
       "      <td>200</td>\n",
       "    </tr>\n",
       "    <tr>\n",
       "      <th>1</th>\n",
       "      <td>000D3A20F23EA95811E7C7892A0CE261</td>\n",
       "      <td>5</td>\n",
       "      <td>2,3</td>\n",
       "      <td>2023-11-02T00:00:00Z</td>\n",
       "      <td>2023-11-05T23:59:00Z</td>\n",
       "      <td>699</td>\n",
       "      <td>200</td>\n",
       "    </tr>\n",
       "    <tr>\n",
       "      <th>2</th>\n",
       "      <td>000D3A20F23EA95811E7CD686C396528</td>\n",
       "      <td>6</td>\n",
       "      <td>2,3</td>\n",
       "      <td>2023-11-02T00:00:00Z</td>\n",
       "      <td>2023-11-05T23:59:00Z</td>\n",
       "      <td>799</td>\n",
       "      <td>20</td>\n",
       "    </tr>\n",
       "    <tr>\n",
       "      <th>3</th>\n",
       "      <td>000D3A20F23EA95911E7CEA8C574EDAE</td>\n",
       "      <td>5</td>\n",
       "      <td>2,3</td>\n",
       "      <td>2023-11-02T00:00:00Z</td>\n",
       "      <td>2023-11-05T23:59:00Z</td>\n",
       "      <td>799</td>\n",
       "      <td>200</td>\n",
       "    </tr>\n",
       "    <tr>\n",
       "      <th>4</th>\n",
       "      <td>000D3A20F23EA95911E7D4F05C59C978</td>\n",
       "      <td>7</td>\n",
       "      <td>2,3</td>\n",
       "      <td>2023-11-02T00:00:00Z</td>\n",
       "      <td>2023-11-05T23:59:00Z</td>\n",
       "      <td>799</td>\n",
       "      <td>200</td>\n",
       "    </tr>\n",
       "  </tbody>\n",
       "</table>\n",
       "</div>"
      ],
      "text/plain": [
       "                         ClientUUId  Id OrderType        LocalBeginDate  \\\n",
       "0  000D3A20F23EA95811E7C0A95563344E   7       2,3  2023-11-02T00:00:00Z   \n",
       "1  000D3A20F23EA95811E7C7892A0CE261   5       2,3  2023-11-02T00:00:00Z   \n",
       "2  000D3A20F23EA95811E7CD686C396528   6       2,3  2023-11-02T00:00:00Z   \n",
       "3  000D3A20F23EA95911E7CEA8C574EDAE   5       2,3  2023-11-02T00:00:00Z   \n",
       "4  000D3A20F23EA95911E7D4F05C59C978   7       2,3  2023-11-02T00:00:00Z   \n",
       "\n",
       "           LocalEndDate  OrderPrice  Discount  \n",
       "0  2023-11-05T23:59:00Z         799       200  \n",
       "1  2023-11-05T23:59:00Z         699       200  \n",
       "2  2023-11-05T23:59:00Z         799        20  \n",
       "3  2023-11-05T23:59:00Z         799       200  \n",
       "4  2023-11-05T23:59:00Z         799       200  "
      ]
     },
     "execution_count": 21,
     "metadata": {},
     "output_type": "execute_result"
    }
   ],
   "source": [
    "test_df.head()"
   ]
  },
  {
   "cell_type": "code",
   "execution_count": 22,
   "metadata": {},
   "outputs": [
    {
     "data": {
      "text/html": [
       "<div>\n",
       "<style scoped>\n",
       "    .dataframe tbody tr th:only-of-type {\n",
       "        vertical-align: middle;\n",
       "    }\n",
       "\n",
       "    .dataframe tbody tr th {\n",
       "        vertical-align: top;\n",
       "    }\n",
       "\n",
       "    .dataframe thead th {\n",
       "        text-align: right;\n",
       "    }\n",
       "</style>\n",
       "<table border=\"1\" class=\"dataframe\">\n",
       "  <thead>\n",
       "    <tr style=\"text-align: right;\">\n",
       "      <th></th>\n",
       "      <th>ClientUUId</th>\n",
       "      <th>Id</th>\n",
       "      <th>OrderType</th>\n",
       "      <th>LocalBeginDate</th>\n",
       "      <th>LocalEndDate</th>\n",
       "      <th>OrderPrice</th>\n",
       "      <th>Discount</th>\n",
       "      <th>apply_promo</th>\n",
       "    </tr>\n",
       "  </thead>\n",
       "  <tbody>\n",
       "    <tr>\n",
       "      <th>0</th>\n",
       "      <td>000D3A20F23EA95811E7B99F3ED09FC8</td>\n",
       "      <td>7</td>\n",
       "      <td>2,3</td>\n",
       "      <td>2023-11-02T00:00:00.000Z</td>\n",
       "      <td>2023-11-05T23:59:00.000Z</td>\n",
       "      <td>699</td>\n",
       "      <td>200</td>\n",
       "      <td>0</td>\n",
       "    </tr>\n",
       "    <tr>\n",
       "      <th>1</th>\n",
       "      <td>000D3A20F23EA95811E7B99F3ED09FC8</td>\n",
       "      <td>6</td>\n",
       "      <td>1,2,3</td>\n",
       "      <td>2023-11-02T00:00:00.000Z</td>\n",
       "      <td>2023-11-05T23:59:00.000Z</td>\n",
       "      <td>1249</td>\n",
       "      <td>25</td>\n",
       "      <td>0</td>\n",
       "    </tr>\n",
       "    <tr>\n",
       "      <th>2</th>\n",
       "      <td>000D3A20F23EA95811E7BD373E79565E</td>\n",
       "      <td>5</td>\n",
       "      <td>2,3</td>\n",
       "      <td>2023-11-02T00:00:00.000Z</td>\n",
       "      <td>2023-11-05T23:59:00.000Z</td>\n",
       "      <td>799</td>\n",
       "      <td>200</td>\n",
       "      <td>0</td>\n",
       "    </tr>\n",
       "    <tr>\n",
       "      <th>3</th>\n",
       "      <td>000D3A20F23EA95811E7BD373E79565E</td>\n",
       "      <td>5</td>\n",
       "      <td>1,2,3</td>\n",
       "      <td>2023-11-02T00:00:00.000Z</td>\n",
       "      <td>2023-11-05T23:59:00.000Z</td>\n",
       "      <td>1249</td>\n",
       "      <td>250</td>\n",
       "      <td>0</td>\n",
       "    </tr>\n",
       "    <tr>\n",
       "      <th>4</th>\n",
       "      <td>000D3A20F23EA95811E7BDAE71CD3F33</td>\n",
       "      <td>6</td>\n",
       "      <td>2,3</td>\n",
       "      <td>2023-11-02T00:00:00.000Z</td>\n",
       "      <td>2023-11-05T23:59:00.000Z</td>\n",
       "      <td>699</td>\n",
       "      <td>30</td>\n",
       "      <td>0</td>\n",
       "    </tr>\n",
       "  </tbody>\n",
       "</table>\n",
       "</div>"
      ],
      "text/plain": [
       "                         ClientUUId  Id OrderType            LocalBeginDate  \\\n",
       "0  000D3A20F23EA95811E7B99F3ED09FC8   7       2,3  2023-11-02T00:00:00.000Z   \n",
       "1  000D3A20F23EA95811E7B99F3ED09FC8   6     1,2,3  2023-11-02T00:00:00.000Z   \n",
       "2  000D3A20F23EA95811E7BD373E79565E   5       2,3  2023-11-02T00:00:00.000Z   \n",
       "3  000D3A20F23EA95811E7BD373E79565E   5     1,2,3  2023-11-02T00:00:00.000Z   \n",
       "4  000D3A20F23EA95811E7BDAE71CD3F33   6       2,3  2023-11-02T00:00:00.000Z   \n",
       "\n",
       "               LocalEndDate  OrderPrice  Discount  apply_promo  \n",
       "0  2023-11-05T23:59:00.000Z         699       200            0  \n",
       "1  2023-11-05T23:59:00.000Z        1249        25            0  \n",
       "2  2023-11-05T23:59:00.000Z         799       200            0  \n",
       "3  2023-11-05T23:59:00.000Z        1249       250            0  \n",
       "4  2023-11-05T23:59:00.000Z         699        30            0  "
      ]
     },
     "execution_count": 22,
     "metadata": {},
     "output_type": "execute_result"
    }
   ],
   "source": [
    "train_target.head()"
   ]
  },
  {
   "cell_type": "code",
   "execution_count": 23,
   "metadata": {},
   "outputs": [
    {
     "data": {
      "text/plain": [
       "apply_promo\n",
       "0    26914\n",
       "1      827\n",
       "Name: count, dtype: int64"
      ]
     },
     "execution_count": 23,
     "metadata": {},
     "output_type": "execute_result"
    }
   ],
   "source": [
    "train_target['apply_promo'].value_counts()"
   ]
  },
  {
   "cell_type": "code",
   "execution_count": 24,
   "metadata": {},
   "outputs": [
    {
     "data": {
      "text/html": [
       "<div>\n",
       "<style scoped>\n",
       "    .dataframe tbody tr th:only-of-type {\n",
       "        vertical-align: middle;\n",
       "    }\n",
       "\n",
       "    .dataframe tbody tr th {\n",
       "        vertical-align: top;\n",
       "    }\n",
       "\n",
       "    .dataframe thead th {\n",
       "        text-align: right;\n",
       "    }\n",
       "</style>\n",
       "<table border=\"1\" class=\"dataframe\">\n",
       "  <thead>\n",
       "    <tr style=\"text-align: right;\">\n",
       "      <th></th>\n",
       "      <th>ClientUUId</th>\n",
       "      <th>Id</th>\n",
       "      <th>OrderType</th>\n",
       "      <th>LocalBeginDate</th>\n",
       "      <th>LocalEndDate</th>\n",
       "      <th>OrderPrice</th>\n",
       "      <th>Discount</th>\n",
       "      <th>apply_promo</th>\n",
       "    </tr>\n",
       "  </thead>\n",
       "  <tbody>\n",
       "    <tr>\n",
       "      <th>0</th>\n",
       "      <td>000D3A20F23EA95811E7B99F3ED09FC8</td>\n",
       "      <td>7</td>\n",
       "      <td>2,3</td>\n",
       "      <td>2023-11-02T00:00:00.000Z</td>\n",
       "      <td>2023-11-05T23:59:00.000Z</td>\n",
       "      <td>699</td>\n",
       "      <td>200</td>\n",
       "      <td>0</td>\n",
       "    </tr>\n",
       "    <tr>\n",
       "      <th>1</th>\n",
       "      <td>000D3A20F23EA95811E7B99F3ED09FC8</td>\n",
       "      <td>6</td>\n",
       "      <td>1,2,3</td>\n",
       "      <td>2023-11-02T00:00:00.000Z</td>\n",
       "      <td>2023-11-05T23:59:00.000Z</td>\n",
       "      <td>1249</td>\n",
       "      <td>25</td>\n",
       "      <td>0</td>\n",
       "    </tr>\n",
       "  </tbody>\n",
       "</table>\n",
       "</div>"
      ],
      "text/plain": [
       "                         ClientUUId  Id OrderType            LocalBeginDate  \\\n",
       "0  000D3A20F23EA95811E7B99F3ED09FC8   7       2,3  2023-11-02T00:00:00.000Z   \n",
       "1  000D3A20F23EA95811E7B99F3ED09FC8   6     1,2,3  2023-11-02T00:00:00.000Z   \n",
       "\n",
       "               LocalEndDate  OrderPrice  Discount  apply_promo  \n",
       "0  2023-11-05T23:59:00.000Z         699       200            0  \n",
       "1  2023-11-05T23:59:00.000Z        1249        25            0  "
      ]
     },
     "execution_count": 24,
     "metadata": {},
     "output_type": "execute_result"
    }
   ],
   "source": [
    "train_target.head(2)"
   ]
  },
  {
   "cell_type": "markdown",
   "metadata": {},
   "source": [
    "## orders_df preprocessing"
   ]
  },
  {
   "cell_type": "code",
   "execution_count": null,
   "metadata": {},
   "outputs": [],
   "source": [
    "orders.head(3)"
   ]
  },
  {
   "cell_type": "code",
   "execution_count": null,
   "metadata": {},
   "outputs": [],
   "source": [
    "orders.shape"
   ]
  },
  {
   "cell_type": "code",
   "execution_count": 25,
   "metadata": {},
   "outputs": [
    {
     "data": {
      "text/plain": [
       "((16337,), (157621,))"
      ]
     },
     "execution_count": 25,
     "metadata": {},
     "output_type": "execute_result"
    }
   ],
   "source": [
    "orders['ClientUUId'].unique().shape, orders['OrderUUId'].unique().shape"
   ]
  },
  {
   "cell_type": "code",
   "execution_count": 26,
   "metadata": {},
   "outputs": [],
   "source": [
    "orders_df = orders.copy()"
   ]
  },
  {
   "cell_type": "code",
   "execution_count": 27,
   "metadata": {},
   "outputs": [
    {
     "data": {
      "text/plain": [
       "Index(['OrderUUId', 'addressId', 'deliverySectorId', 'ClientUUId', 'Date',\n",
       "       'SaleDate', 'UnitUUId', 'NewClient', 'ClientOrderNumber', 'ProductUUId',\n",
       "       'CategoryId', 'ProductTotalPrice', 'MenuPrice', 'OrderState',\n",
       "       'OrderPaymentType', 'OrderTotalPrice', 'OrderType', 'apply_promo'],\n",
       "      dtype='object')"
      ]
     },
     "execution_count": 27,
     "metadata": {},
     "output_type": "execute_result"
    }
   ],
   "source": [
    "orders_df.columns"
   ]
  },
  {
   "cell_type": "code",
   "execution_count": 28,
   "metadata": {},
   "outputs": [],
   "source": [
    "orders_df = orders_df.drop(columns=['addressId', 'deliverySectorId', 'UnitUUId', 'ProductUUId', \n",
    "                                    'CategoryId', 'ProductTotalPrice', 'MenuPrice', 'OrderPaymentType'])\n"
   ]
  },
  {
   "cell_type": "code",
   "execution_count": 29,
   "metadata": {},
   "outputs": [],
   "source": [
    "orders_df = orders_df.groupby('OrderUUId').first()"
   ]
  },
  {
   "cell_type": "code",
   "execution_count": null,
   "metadata": {},
   "outputs": [],
   "source": [
    "orders_df.head(3)"
   ]
  },
  {
   "cell_type": "markdown",
   "metadata": {},
   "source": [
    "4 - Done; 11 - Not done"
   ]
  },
  {
   "cell_type": "code",
   "execution_count": 30,
   "metadata": {},
   "outputs": [
    {
     "data": {
      "text/plain": [
       "OrderState\n",
       "4     155808\n",
       "11      1813\n",
       "Name: count, dtype: int64"
      ]
     },
     "execution_count": 30,
     "metadata": {},
     "output_type": "execute_result"
    }
   ],
   "source": [
    "orders_df['OrderState'].value_counts()"
   ]
  },
  {
   "cell_type": "code",
   "execution_count": 31,
   "metadata": {},
   "outputs": [
    {
     "data": {
      "text/plain": [
       "NewClient\n",
       "0    157511\n",
       "1       110\n",
       "Name: count, dtype: int64"
      ]
     },
     "execution_count": 31,
     "metadata": {},
     "output_type": "execute_result"
    }
   ],
   "source": [
    "orders_df['NewClient'].value_counts()"
   ]
  },
  {
   "cell_type": "code",
   "execution_count": 32,
   "metadata": {},
   "outputs": [
    {
     "data": {
      "text/plain": [
       "apply_promo\n",
       "0    132899\n",
       "1     24722\n",
       "Name: count, dtype: int64"
      ]
     },
     "execution_count": 32,
     "metadata": {},
     "output_type": "execute_result"
    }
   ],
   "source": [
    "orders_df['apply_promo'].value_counts()"
   ]
  },
  {
   "cell_type": "code",
   "execution_count": 33,
   "metadata": {},
   "outputs": [],
   "source": [
    "client_promos = orders_df[['ClientUUId', 'apply_promo']].groupby('ClientUUId', as_index=False).sum()"
   ]
  },
  {
   "cell_type": "code",
   "execution_count": null,
   "metadata": {},
   "outputs": [],
   "source": [
    "client_promos.sample(3)"
   ]
  },
  {
   "cell_type": "code",
   "execution_count": 34,
   "metadata": {},
   "outputs": [],
   "source": [
    "client_orders = orders_df[['ClientUUId', 'ClientOrderNumber']].groupby('ClientUUId', as_index=False).last()"
   ]
  },
  {
   "cell_type": "code",
   "execution_count": null,
   "metadata": {},
   "outputs": [],
   "source": [
    "client_orders.sample(3)"
   ]
  },
  {
   "cell_type": "code",
   "execution_count": 35,
   "metadata": {},
   "outputs": [],
   "source": [
    "client_orders_promos = client_orders.merge(right=client_promos, on='ClientUUId')"
   ]
  },
  {
   "cell_type": "code",
   "execution_count": null,
   "metadata": {},
   "outputs": [],
   "source": [
    "client_orders_promos.head(3)"
   ]
  },
  {
   "cell_type": "code",
   "execution_count": 37,
   "metadata": {},
   "outputs": [
    {
     "data": {
      "text/plain": [
       "(16337, 3)"
      ]
     },
     "execution_count": 37,
     "metadata": {},
     "output_type": "execute_result"
    }
   ],
   "source": [
    "client_orders_promos.shape"
   ]
  },
  {
   "cell_type": "markdown",
   "metadata": {},
   "source": [
    "## Looking at all the promos"
   ]
  },
  {
   "cell_type": "code",
   "execution_count": 36,
   "metadata": {},
   "outputs": [
    {
     "data": {
      "text/html": [
       "<div>\n",
       "<style scoped>\n",
       "    .dataframe tbody tr th:only-of-type {\n",
       "        vertical-align: middle;\n",
       "    }\n",
       "\n",
       "    .dataframe tbody tr th {\n",
       "        vertical-align: top;\n",
       "    }\n",
       "\n",
       "    .dataframe thead th {\n",
       "        text-align: right;\n",
       "    }\n",
       "</style>\n",
       "<table border=\"1\" class=\"dataframe\">\n",
       "  <thead>\n",
       "    <tr style=\"text-align: right;\">\n",
       "      <th></th>\n",
       "      <th>ClientUUId</th>\n",
       "      <th>Id</th>\n",
       "      <th>LocalBeginDate</th>\n",
       "      <th>LocalEndDate</th>\n",
       "      <th>OrderType</th>\n",
       "      <th>OrderPrice</th>\n",
       "      <th>Discount</th>\n",
       "    </tr>\n",
       "  </thead>\n",
       "  <tbody>\n",
       "    <tr>\n",
       "      <th>0</th>\n",
       "      <td>000D3A20F23EA95811E7B7104AC23CD3</td>\n",
       "      <td>6</td>\n",
       "      <td>2023-10-12T00:00:00.000Z</td>\n",
       "      <td>2023-10-15T23:59:00.000Z</td>\n",
       "      <td>1,2,3</td>\n",
       "      <td>1299</td>\n",
       "      <td>25</td>\n",
       "    </tr>\n",
       "    <tr>\n",
       "      <th>1</th>\n",
       "      <td>000D3A20F23EA95811E7B7D79FAABAA1</td>\n",
       "      <td>5</td>\n",
       "      <td>2023-10-12T00:00:00.000Z</td>\n",
       "      <td>2023-10-15T23:59:00.000Z</td>\n",
       "      <td>1,2,3</td>\n",
       "      <td>1299</td>\n",
       "      <td>300</td>\n",
       "    </tr>\n",
       "    <tr>\n",
       "      <th>2</th>\n",
       "      <td>000D3A20F23EA95811E7B8BD71C73877</td>\n",
       "      <td>7</td>\n",
       "      <td>2023-10-12T00:00:00.000Z</td>\n",
       "      <td>2023-10-15T23:59:00.000Z</td>\n",
       "      <td>1,2,3</td>\n",
       "      <td>1249</td>\n",
       "      <td>200</td>\n",
       "    </tr>\n",
       "  </tbody>\n",
       "</table>\n",
       "</div>"
      ],
      "text/plain": [
       "                         ClientUUId  Id            LocalBeginDate  \\\n",
       "0  000D3A20F23EA95811E7B7104AC23CD3   6  2023-10-12T00:00:00.000Z   \n",
       "1  000D3A20F23EA95811E7B7D79FAABAA1   5  2023-10-12T00:00:00.000Z   \n",
       "2  000D3A20F23EA95811E7B8BD71C73877   7  2023-10-12T00:00:00.000Z   \n",
       "\n",
       "               LocalEndDate OrderType  OrderPrice  Discount  \n",
       "0  2023-10-15T23:59:00.000Z     1,2,3        1299        25  \n",
       "1  2023-10-15T23:59:00.000Z     1,2,3        1299       300  \n",
       "2  2023-10-15T23:59:00.000Z     1,2,3        1249       200  "
      ]
     },
     "execution_count": 36,
     "metadata": {},
     "output_type": "execute_result"
    }
   ],
   "source": [
    "clients_promo_october.head(3)"
   ]
  },
  {
   "cell_type": "code",
   "execution_count": 38,
   "metadata": {},
   "outputs": [],
   "source": [
    "promos_df = clients_promo_october.copy()"
   ]
  },
  {
   "cell_type": "code",
   "execution_count": 39,
   "metadata": {},
   "outputs": [],
   "source": [
    "promos_df = promos_df[['ClientUUId', 'Id']].groupby('ClientUUId', as_index=False).count()\n",
    "promos_df = pd.DataFrame(promos_df).rename(columns={'Id': 'total_promos'})"
   ]
  },
  {
   "cell_type": "code",
   "execution_count": null,
   "metadata": {},
   "outputs": [],
   "source": [
    "promos_df.sample(3)"
   ]
  },
  {
   "cell_type": "code",
   "execution_count": 40,
   "metadata": {},
   "outputs": [
    {
     "data": {
      "text/plain": [
       "(30000, 2)"
      ]
     },
     "execution_count": 40,
     "metadata": {},
     "output_type": "execute_result"
    }
   ],
   "source": [
    "promos_df.shape"
   ]
  },
  {
   "cell_type": "markdown",
   "metadata": {},
   "source": [
    "## Combining total orders, total promos and applied promos together"
   ]
  },
  {
   "cell_type": "code",
   "execution_count": 41,
   "metadata": {},
   "outputs": [],
   "source": [
    "client_orders_promos = client_orders_promos.merge(right=promos_df, on='ClientUUId', how='inner'\n",
    "                                                  ).rename(columns={'ClientOrderNumber': 'total_orders',\n",
    "                                                                    'apply_promo': 'total_applied'})"
   ]
  },
  {
   "cell_type": "code",
   "execution_count": null,
   "metadata": {},
   "outputs": [],
   "source": [
    "client_orders_promos.sample(3)"
   ]
  },
  {
   "cell_type": "code",
   "execution_count": 42,
   "metadata": {},
   "outputs": [
    {
     "data": {
      "text/plain": [
       "(16337, 4)"
      ]
     },
     "execution_count": 42,
     "metadata": {},
     "output_type": "execute_result"
    }
   ],
   "source": [
    "client_orders_promos.shape"
   ]
  },
  {
   "cell_type": "markdown",
   "metadata": {},
   "source": [
    "## Processing mobile_events"
   ]
  },
  {
   "cell_type": "code",
   "execution_count": null,
   "metadata": {},
   "outputs": [],
   "source": [
    "mobile_events.head()"
   ]
  },
  {
   "cell_type": "code",
   "execution_count": 43,
   "metadata": {},
   "outputs": [
    {
     "data": {
      "text/plain": [
       "((29838,), (223964,))"
      ]
     },
     "execution_count": 43,
     "metadata": {},
     "output_type": "execute_result"
    }
   ],
   "source": [
    "mobile_events['ClientUUId'].unique().shape, mobile_events['VisitToken'].unique().shape"
   ]
  },
  {
   "cell_type": "code",
   "execution_count": 44,
   "metadata": {},
   "outputs": [],
   "source": [
    "mobile_df = mobile_events.copy()"
   ]
  },
  {
   "cell_type": "code",
   "execution_count": 45,
   "metadata": {},
   "outputs": [],
   "source": [
    "mobile_df = mobile_df.groupby(['ClientUUId', 'EventName'], as_index=False).count()[['ClientUUId', 'EventName', 'Timestamp']\n",
    "                                                                                   ].rename(columns={'Timestamp': 'count_event'})"
   ]
  },
  {
   "cell_type": "code",
   "execution_count": null,
   "metadata": {},
   "outputs": [],
   "source": [
    "mobile_df.head(15)"
   ]
  },
  {
   "cell_type": "code",
   "execution_count": 46,
   "metadata": {},
   "outputs": [],
   "source": [
    "applied = mobile_df.loc[mobile_df['EventName'] == 'apply_personal_offer'].drop(columns=['EventName']\n",
    "                                                                               ).rename(columns={'count_event': 'total_applied'})\n",
    "ordered = mobile_df.loc[mobile_df['EventName'] == 'create_order'].drop(columns=['EventName']\n",
    "                                                                       ).rename(columns={'count_event': 'total_orders'})"
   ]
  },
  {
   "cell_type": "code",
   "execution_count": null,
   "metadata": {},
   "outputs": [],
   "source": [
    "applied.sample()"
   ]
  },
  {
   "cell_type": "code",
   "execution_count": null,
   "metadata": {},
   "outputs": [],
   "source": [
    "ordered.sample()"
   ]
  },
  {
   "cell_type": "code",
   "execution_count": 47,
   "metadata": {},
   "outputs": [],
   "source": [
    "orders_promos = ordered.merge(applied, on='ClientUUId', how='inner')"
   ]
  },
  {
   "cell_type": "code",
   "execution_count": null,
   "metadata": {},
   "outputs": [],
   "source": [
    "orders_promos.sample(10)"
   ]
  },
  {
   "cell_type": "code",
   "execution_count": 48,
   "metadata": {},
   "outputs": [],
   "source": [
    "orders_promos = orders_promos.query('total_orders >= total_applied')"
   ]
  },
  {
   "cell_type": "code",
   "execution_count": null,
   "metadata": {},
   "outputs": [],
   "source": [
    "orders_promos.sample(10)"
   ]
  },
  {
   "cell_type": "code",
   "execution_count": 49,
   "metadata": {},
   "outputs": [
    {
     "data": {
      "text/plain": [
       "(10912, 3)"
      ]
     },
     "execution_count": 49,
     "metadata": {},
     "output_type": "execute_result"
    }
   ],
   "source": [
    "orders_promos.shape"
   ]
  },
  {
   "cell_type": "markdown",
   "metadata": {},
   "source": [
    "## Joining orders_promos to client base"
   ]
  },
  {
   "cell_type": "code",
   "execution_count": 50,
   "metadata": {},
   "outputs": [],
   "source": [
    "orders_promos = orders_promos.merge(right=promos_df, on='ClientUUId', how='inner'\n",
    "                                                  ).rename(columns={'ClientOrderNumber': 'total_orders',\n",
    "                                                                    'apply_promo': 'total_applied'})"
   ]
  },
  {
   "cell_type": "code",
   "execution_count": null,
   "metadata": {},
   "outputs": [],
   "source": [
    "orders_promos.sample(3)"
   ]
  },
  {
   "cell_type": "code",
   "execution_count": null,
   "metadata": {},
   "outputs": [],
   "source": [
    "orders_promos.shape"
   ]
  },
  {
   "cell_type": "markdown",
   "metadata": {},
   "source": [
    "## Joining total clients base"
   ]
  },
  {
   "cell_type": "code",
   "execution_count": null,
   "metadata": {},
   "outputs": [],
   "source": [
    "client_orders_promos.sample(2)"
   ]
  },
  {
   "cell_type": "code",
   "execution_count": null,
   "metadata": {},
   "outputs": [],
   "source": [
    "orders_promos.sample(2)"
   ]
  },
  {
   "cell_type": "code",
   "execution_count": 51,
   "metadata": {},
   "outputs": [],
   "source": [
    "client_base = pd.concat(objs=[client_orders_promos, orders_promos])"
   ]
  },
  {
   "cell_type": "code",
   "execution_count": 52,
   "metadata": {},
   "outputs": [],
   "source": [
    "client_base = client_base.groupby('ClientUUId').sum()"
   ]
  },
  {
   "cell_type": "code",
   "execution_count": 53,
   "metadata": {},
   "outputs": [],
   "source": [
    "client_base['promo_usage'] = client_base['total_applied'] / client_base['total_promos']"
   ]
  },
  {
   "cell_type": "code",
   "execution_count": 54,
   "metadata": {},
   "outputs": [],
   "source": [
    "client_base = client_base.query('total_orders >= total_applied')"
   ]
  },
  {
   "cell_type": "code",
   "execution_count": 55,
   "metadata": {},
   "outputs": [
    {
     "data": {
      "text/html": [
       "<div>\n",
       "<style scoped>\n",
       "    .dataframe tbody tr th:only-of-type {\n",
       "        vertical-align: middle;\n",
       "    }\n",
       "\n",
       "    .dataframe tbody tr th {\n",
       "        vertical-align: top;\n",
       "    }\n",
       "\n",
       "    .dataframe thead th {\n",
       "        text-align: right;\n",
       "    }\n",
       "</style>\n",
       "<table border=\"1\" class=\"dataframe\">\n",
       "  <thead>\n",
       "    <tr style=\"text-align: right;\">\n",
       "      <th></th>\n",
       "      <th>total_orders</th>\n",
       "      <th>total_applied</th>\n",
       "      <th>total_promos</th>\n",
       "      <th>promo_usage</th>\n",
       "    </tr>\n",
       "    <tr>\n",
       "      <th>ClientUUId</th>\n",
       "      <th></th>\n",
       "      <th></th>\n",
       "      <th></th>\n",
       "      <th></th>\n",
       "    </tr>\n",
       "  </thead>\n",
       "  <tbody>\n",
       "    <tr>\n",
       "      <th>000D3A21DA51A81411EB062B8E92DAA5</th>\n",
       "      <td>125</td>\n",
       "      <td>0</td>\n",
       "      <td>18</td>\n",
       "      <td>0.000000</td>\n",
       "    </tr>\n",
       "    <tr>\n",
       "      <th>66C5387CE155967111ED72F2331F59A6</th>\n",
       "      <td>15</td>\n",
       "      <td>2</td>\n",
       "      <td>18</td>\n",
       "      <td>0.111111</td>\n",
       "    </tr>\n",
       "    <tr>\n",
       "      <th>000D3A24D2B7A94311E8BE5E3D13FD3B</th>\n",
       "      <td>49</td>\n",
       "      <td>0</td>\n",
       "      <td>18</td>\n",
       "      <td>0.000000</td>\n",
       "    </tr>\n",
       "    <tr>\n",
       "      <th>000D3A240C71B1B411E653BD0640043E</th>\n",
       "      <td>3</td>\n",
       "      <td>2</td>\n",
       "      <td>18</td>\n",
       "      <td>0.111111</td>\n",
       "    </tr>\n",
       "    <tr>\n",
       "      <th>000D3AAC9DCABB2C11EBBEF269A3195C</th>\n",
       "      <td>24</td>\n",
       "      <td>0</td>\n",
       "      <td>14</td>\n",
       "      <td>0.000000</td>\n",
       "    </tr>\n",
       "    <tr>\n",
       "      <th>000D3A22FA54A81411E956EA0451310F</th>\n",
       "      <td>73</td>\n",
       "      <td>0</td>\n",
       "      <td>18</td>\n",
       "      <td>0.000000</td>\n",
       "    </tr>\n",
       "    <tr>\n",
       "      <th>92F5C8E4E292A67411ECF0738D859925</th>\n",
       "      <td>2</td>\n",
       "      <td>1</td>\n",
       "      <td>18</td>\n",
       "      <td>0.055556</td>\n",
       "    </tr>\n",
       "    <tr>\n",
       "      <th>000D3A23B0DC80DE11E7AC5B638DF34B</th>\n",
       "      <td>56</td>\n",
       "      <td>4</td>\n",
       "      <td>14</td>\n",
       "      <td>0.285714</td>\n",
       "    </tr>\n",
       "    <tr>\n",
       "      <th>000D3AAC9DCABB2B11EBAC330EF32067</th>\n",
       "      <td>129</td>\n",
       "      <td>0</td>\n",
       "      <td>14</td>\n",
       "      <td>0.000000</td>\n",
       "    </tr>\n",
       "    <tr>\n",
       "      <th>000D3AAC9DCABB2E11EC18D537E0FDDB</th>\n",
       "      <td>17</td>\n",
       "      <td>1</td>\n",
       "      <td>28</td>\n",
       "      <td>0.035714</td>\n",
       "    </tr>\n",
       "  </tbody>\n",
       "</table>\n",
       "</div>"
      ],
      "text/plain": [
       "                                  total_orders  total_applied  total_promos  \\\n",
       "ClientUUId                                                                    \n",
       "000D3A21DA51A81411EB062B8E92DAA5           125              0            18   \n",
       "66C5387CE155967111ED72F2331F59A6            15              2            18   \n",
       "000D3A24D2B7A94311E8BE5E3D13FD3B            49              0            18   \n",
       "000D3A240C71B1B411E653BD0640043E             3              2            18   \n",
       "000D3AAC9DCABB2C11EBBEF269A3195C            24              0            14   \n",
       "000D3A22FA54A81411E956EA0451310F            73              0            18   \n",
       "92F5C8E4E292A67411ECF0738D859925             2              1            18   \n",
       "000D3A23B0DC80DE11E7AC5B638DF34B            56              4            14   \n",
       "000D3AAC9DCABB2B11EBAC330EF32067           129              0            14   \n",
       "000D3AAC9DCABB2E11EC18D537E0FDDB            17              1            28   \n",
       "\n",
       "                                  promo_usage  \n",
       "ClientUUId                                     \n",
       "000D3A21DA51A81411EB062B8E92DAA5     0.000000  \n",
       "66C5387CE155967111ED72F2331F59A6     0.111111  \n",
       "000D3A24D2B7A94311E8BE5E3D13FD3B     0.000000  \n",
       "000D3A240C71B1B411E653BD0640043E     0.111111  \n",
       "000D3AAC9DCABB2C11EBBEF269A3195C     0.000000  \n",
       "000D3A22FA54A81411E956EA0451310F     0.000000  \n",
       "92F5C8E4E292A67411ECF0738D859925     0.055556  \n",
       "000D3A23B0DC80DE11E7AC5B638DF34B     0.285714  \n",
       "000D3AAC9DCABB2B11EBAC330EF32067     0.000000  \n",
       "000D3AAC9DCABB2E11EC18D537E0FDDB     0.035714  "
      ]
     },
     "execution_count": 55,
     "metadata": {},
     "output_type": "execute_result"
    }
   ],
   "source": [
    "client_base.sample(10)"
   ]
  },
  {
   "cell_type": "code",
   "execution_count": 56,
   "metadata": {},
   "outputs": [
    {
     "data": {
      "text/plain": [
       "(20796, 4)"
      ]
     },
     "execution_count": 56,
     "metadata": {},
     "output_type": "execute_result"
    }
   ],
   "source": [
    "client_base.shape"
   ]
  },
  {
   "cell_type": "markdown",
   "metadata": {},
   "source": [
    "# Working on train dataset"
   ]
  },
  {
   "cell_type": "code",
   "execution_count": null,
   "metadata": {},
   "outputs": [],
   "source": [
    "train_target.head()"
   ]
  },
  {
   "cell_type": "code",
   "execution_count": null,
   "metadata": {},
   "outputs": [],
   "source": [
    "train_target.shape"
   ]
  },
  {
   "cell_type": "code",
   "execution_count": 57,
   "metadata": {},
   "outputs": [],
   "source": [
    "train_df = train_target.copy()"
   ]
  },
  {
   "cell_type": "code",
   "execution_count": 58,
   "metadata": {},
   "outputs": [],
   "source": [
    "train_df = train_df.merge(right=client_base, on='ClientUUId', how='inner')"
   ]
  },
  {
   "cell_type": "code",
   "execution_count": 59,
   "metadata": {},
   "outputs": [
    {
     "data": {
      "text/html": [
       "<div>\n",
       "<style scoped>\n",
       "    .dataframe tbody tr th:only-of-type {\n",
       "        vertical-align: middle;\n",
       "    }\n",
       "\n",
       "    .dataframe tbody tr th {\n",
       "        vertical-align: top;\n",
       "    }\n",
       "\n",
       "    .dataframe thead th {\n",
       "        text-align: right;\n",
       "    }\n",
       "</style>\n",
       "<table border=\"1\" class=\"dataframe\">\n",
       "  <thead>\n",
       "    <tr style=\"text-align: right;\">\n",
       "      <th></th>\n",
       "      <th>ClientUUId</th>\n",
       "      <th>Id</th>\n",
       "      <th>OrderType</th>\n",
       "      <th>LocalBeginDate</th>\n",
       "      <th>LocalEndDate</th>\n",
       "      <th>OrderPrice</th>\n",
       "      <th>Discount</th>\n",
       "      <th>apply_promo</th>\n",
       "      <th>total_orders</th>\n",
       "      <th>total_applied</th>\n",
       "      <th>total_promos</th>\n",
       "      <th>promo_usage</th>\n",
       "    </tr>\n",
       "  </thead>\n",
       "  <tbody>\n",
       "    <tr>\n",
       "      <th>6839</th>\n",
       "      <td>000D3A39D824A82E11EAAFFC8BB3DC35</td>\n",
       "      <td>5</td>\n",
       "      <td>2,3</td>\n",
       "      <td>2023-11-02T00:00:00.000Z</td>\n",
       "      <td>2023-11-05T23:59:00.000Z</td>\n",
       "      <td>749</td>\n",
       "      <td>200</td>\n",
       "      <td>0</td>\n",
       "      <td>61</td>\n",
       "      <td>1</td>\n",
       "      <td>16</td>\n",
       "      <td>0.062500</td>\n",
       "    </tr>\n",
       "    <tr>\n",
       "      <th>3638</th>\n",
       "      <td>000D3A22FA54A81411E941A8430C9FF8</td>\n",
       "      <td>5</td>\n",
       "      <td>2,3</td>\n",
       "      <td>2023-11-02T00:00:00.000Z</td>\n",
       "      <td>2023-11-05T23:59:00.000Z</td>\n",
       "      <td>799</td>\n",
       "      <td>200</td>\n",
       "      <td>0</td>\n",
       "      <td>18</td>\n",
       "      <td>3</td>\n",
       "      <td>32</td>\n",
       "      <td>0.093750</td>\n",
       "    </tr>\n",
       "    <tr>\n",
       "      <th>1744</th>\n",
       "      <td>000D3AAC9DCABB2E11EC63D77BCB27DA</td>\n",
       "      <td>6</td>\n",
       "      <td>2,3</td>\n",
       "      <td>2023-11-02T00:00:00.000Z</td>\n",
       "      <td>2023-11-05T23:59:00.000Z</td>\n",
       "      <td>799</td>\n",
       "      <td>20</td>\n",
       "      <td>0</td>\n",
       "      <td>67</td>\n",
       "      <td>7</td>\n",
       "      <td>28</td>\n",
       "      <td>0.250000</td>\n",
       "    </tr>\n",
       "    <tr>\n",
       "      <th>1452</th>\n",
       "      <td>000D3A39D824A82F11EB314F23B498AC</td>\n",
       "      <td>6</td>\n",
       "      <td>2,3</td>\n",
       "      <td>2023-11-02T00:00:00.000Z</td>\n",
       "      <td>2023-11-05T23:59:00.000Z</td>\n",
       "      <td>799</td>\n",
       "      <td>20</td>\n",
       "      <td>0</td>\n",
       "      <td>31</td>\n",
       "      <td>2</td>\n",
       "      <td>36</td>\n",
       "      <td>0.055556</td>\n",
       "    </tr>\n",
       "    <tr>\n",
       "      <th>1380</th>\n",
       "      <td>000D3A39D824A82E11EA571C4E778197</td>\n",
       "      <td>5</td>\n",
       "      <td>1,2,3</td>\n",
       "      <td>2023-11-02T00:00:00.000Z</td>\n",
       "      <td>2023-11-05T23:59:00.000Z</td>\n",
       "      <td>1199</td>\n",
       "      <td>250</td>\n",
       "      <td>0</td>\n",
       "      <td>9</td>\n",
       "      <td>2</td>\n",
       "      <td>36</td>\n",
       "      <td>0.055556</td>\n",
       "    </tr>\n",
       "    <tr>\n",
       "      <th>5508</th>\n",
       "      <td>000D3A284715A95811E848AE54DC9328</td>\n",
       "      <td>7</td>\n",
       "      <td>2,3</td>\n",
       "      <td>2023-11-02T00:00:00.000Z</td>\n",
       "      <td>2023-11-05T23:59:00.000Z</td>\n",
       "      <td>799</td>\n",
       "      <td>200</td>\n",
       "      <td>0</td>\n",
       "      <td>42</td>\n",
       "      <td>1</td>\n",
       "      <td>32</td>\n",
       "      <td>0.031250</td>\n",
       "    </tr>\n",
       "    <tr>\n",
       "      <th>2563</th>\n",
       "      <td>000D3A2155A180E811E7A99D6D65D4DD</td>\n",
       "      <td>5</td>\n",
       "      <td>2,3</td>\n",
       "      <td>2023-11-02T00:00:00.000Z</td>\n",
       "      <td>2023-11-05T23:59:00.000Z</td>\n",
       "      <td>749</td>\n",
       "      <td>200</td>\n",
       "      <td>0</td>\n",
       "      <td>25</td>\n",
       "      <td>1</td>\n",
       "      <td>36</td>\n",
       "      <td>0.027778</td>\n",
       "    </tr>\n",
       "    <tr>\n",
       "      <th>7469</th>\n",
       "      <td>000D3AAC977BBB2F11EC9D3DBDEF3BC8</td>\n",
       "      <td>7</td>\n",
       "      <td>2,3</td>\n",
       "      <td>2023-11-02T00:00:00.000Z</td>\n",
       "      <td>2023-11-05T23:59:00.000Z</td>\n",
       "      <td>799</td>\n",
       "      <td>200</td>\n",
       "      <td>0</td>\n",
       "      <td>26</td>\n",
       "      <td>5</td>\n",
       "      <td>36</td>\n",
       "      <td>0.138889</td>\n",
       "    </tr>\n",
       "    <tr>\n",
       "      <th>11858</th>\n",
       "      <td>000D3A22FA54A81711EB3B883F7D8748</td>\n",
       "      <td>7</td>\n",
       "      <td>1,2,3</td>\n",
       "      <td>2023-11-02T00:00:00.000Z</td>\n",
       "      <td>2023-11-05T23:59:00.000Z</td>\n",
       "      <td>1249</td>\n",
       "      <td>250</td>\n",
       "      <td>0</td>\n",
       "      <td>96</td>\n",
       "      <td>7</td>\n",
       "      <td>36</td>\n",
       "      <td>0.194444</td>\n",
       "    </tr>\n",
       "    <tr>\n",
       "      <th>17889</th>\n",
       "      <td>000D3A25D54580E211E7204218E8EEFE</td>\n",
       "      <td>6</td>\n",
       "      <td>2,3</td>\n",
       "      <td>2023-11-02T00:00:00.000Z</td>\n",
       "      <td>2023-11-05T23:59:00.000Z</td>\n",
       "      <td>699</td>\n",
       "      <td>30</td>\n",
       "      <td>0</td>\n",
       "      <td>22</td>\n",
       "      <td>5</td>\n",
       "      <td>36</td>\n",
       "      <td>0.138889</td>\n",
       "    </tr>\n",
       "  </tbody>\n",
       "</table>\n",
       "</div>"
      ],
      "text/plain": [
       "                             ClientUUId  Id OrderType  \\\n",
       "6839   000D3A39D824A82E11EAAFFC8BB3DC35   5       2,3   \n",
       "3638   000D3A22FA54A81411E941A8430C9FF8   5       2,3   \n",
       "1744   000D3AAC9DCABB2E11EC63D77BCB27DA   6       2,3   \n",
       "1452   000D3A39D824A82F11EB314F23B498AC   6       2,3   \n",
       "1380   000D3A39D824A82E11EA571C4E778197   5     1,2,3   \n",
       "5508   000D3A284715A95811E848AE54DC9328   7       2,3   \n",
       "2563   000D3A2155A180E811E7A99D6D65D4DD   5       2,3   \n",
       "7469   000D3AAC977BBB2F11EC9D3DBDEF3BC8   7       2,3   \n",
       "11858  000D3A22FA54A81711EB3B883F7D8748   7     1,2,3   \n",
       "17889  000D3A25D54580E211E7204218E8EEFE   6       2,3   \n",
       "\n",
       "                 LocalBeginDate              LocalEndDate  OrderPrice  \\\n",
       "6839   2023-11-02T00:00:00.000Z  2023-11-05T23:59:00.000Z         749   \n",
       "3638   2023-11-02T00:00:00.000Z  2023-11-05T23:59:00.000Z         799   \n",
       "1744   2023-11-02T00:00:00.000Z  2023-11-05T23:59:00.000Z         799   \n",
       "1452   2023-11-02T00:00:00.000Z  2023-11-05T23:59:00.000Z         799   \n",
       "1380   2023-11-02T00:00:00.000Z  2023-11-05T23:59:00.000Z        1199   \n",
       "5508   2023-11-02T00:00:00.000Z  2023-11-05T23:59:00.000Z         799   \n",
       "2563   2023-11-02T00:00:00.000Z  2023-11-05T23:59:00.000Z         749   \n",
       "7469   2023-11-02T00:00:00.000Z  2023-11-05T23:59:00.000Z         799   \n",
       "11858  2023-11-02T00:00:00.000Z  2023-11-05T23:59:00.000Z        1249   \n",
       "17889  2023-11-02T00:00:00.000Z  2023-11-05T23:59:00.000Z         699   \n",
       "\n",
       "       Discount  apply_promo  total_orders  total_applied  total_promos  \\\n",
       "6839        200            0            61              1            16   \n",
       "3638        200            0            18              3            32   \n",
       "1744         20            0            67              7            28   \n",
       "1452         20            0            31              2            36   \n",
       "1380        250            0             9              2            36   \n",
       "5508        200            0            42              1            32   \n",
       "2563        200            0            25              1            36   \n",
       "7469        200            0            26              5            36   \n",
       "11858       250            0            96              7            36   \n",
       "17889        30            0            22              5            36   \n",
       "\n",
       "       promo_usage  \n",
       "6839      0.062500  \n",
       "3638      0.093750  \n",
       "1744      0.250000  \n",
       "1452      0.055556  \n",
       "1380      0.055556  \n",
       "5508      0.031250  \n",
       "2563      0.027778  \n",
       "7469      0.138889  \n",
       "11858     0.194444  \n",
       "17889     0.138889  "
      ]
     },
     "execution_count": 59,
     "metadata": {},
     "output_type": "execute_result"
    }
   ],
   "source": [
    "train_df.sample(10)"
   ]
  },
  {
   "cell_type": "code",
   "execution_count": 60,
   "metadata": {},
   "outputs": [
    {
     "data": {
      "text/plain": [
       "(19267, 12)"
      ]
     },
     "execution_count": 60,
     "metadata": {},
     "output_type": "execute_result"
    }
   ],
   "source": [
    "train_df.shape"
   ]
  },
  {
   "cell_type": "code",
   "execution_count": 61,
   "metadata": {},
   "outputs": [
    {
     "data": {
      "text/plain": [
       "(12858,)"
      ]
     },
     "execution_count": 61,
     "metadata": {},
     "output_type": "execute_result"
    }
   ],
   "source": [
    "train_df['ClientUUId'].unique().shape"
   ]
  },
  {
   "cell_type": "code",
   "execution_count": 62,
   "metadata": {},
   "outputs": [],
   "source": [
    "train_df['Discount'] = np.where(train_df['Id'] == 6,\n",
    "                                 round(train_df['OrderPrice'] * train_df['Discount'] / 100, 0),\n",
    "                                 train_df['Discount'])"
   ]
  },
  {
   "cell_type": "code",
   "execution_count": 63,
   "metadata": {},
   "outputs": [
    {
     "data": {
      "text/plain": [
       "total_promos\n",
       "False    19267\n",
       "Name: count, dtype: int64"
      ]
     },
     "execution_count": 63,
     "metadata": {},
     "output_type": "execute_result"
    }
   ],
   "source": [
    "train_df['total_promos'].isna().value_counts()"
   ]
  },
  {
   "cell_type": "code",
   "execution_count": 64,
   "metadata": {},
   "outputs": [
    {
     "data": {
      "text/html": [
       "<div>\n",
       "<style scoped>\n",
       "    .dataframe tbody tr th:only-of-type {\n",
       "        vertical-align: middle;\n",
       "    }\n",
       "\n",
       "    .dataframe tbody tr th {\n",
       "        vertical-align: top;\n",
       "    }\n",
       "\n",
       "    .dataframe thead th {\n",
       "        text-align: right;\n",
       "    }\n",
       "</style>\n",
       "<table border=\"1\" class=\"dataframe\">\n",
       "  <thead>\n",
       "    <tr style=\"text-align: right;\">\n",
       "      <th></th>\n",
       "      <th>ClientUUId</th>\n",
       "      <th>Id</th>\n",
       "      <th>OrderType</th>\n",
       "      <th>LocalBeginDate</th>\n",
       "      <th>LocalEndDate</th>\n",
       "      <th>OrderPrice</th>\n",
       "      <th>Discount</th>\n",
       "      <th>apply_promo</th>\n",
       "      <th>total_orders</th>\n",
       "      <th>total_applied</th>\n",
       "      <th>total_promos</th>\n",
       "      <th>promo_usage</th>\n",
       "    </tr>\n",
       "  </thead>\n",
       "  <tbody>\n",
       "    <tr>\n",
       "      <th>7460</th>\n",
       "      <td>000D3AAC977BBB2E11EC949C3FB6FF87</td>\n",
       "      <td>7</td>\n",
       "      <td>1,2,3</td>\n",
       "      <td>2023-11-02T00:00:00.000Z</td>\n",
       "      <td>2023-11-05T23:59:00.000Z</td>\n",
       "      <td>1249</td>\n",
       "      <td>200.0</td>\n",
       "      <td>0</td>\n",
       "      <td>15</td>\n",
       "      <td>0</td>\n",
       "      <td>18</td>\n",
       "      <td>0.000000</td>\n",
       "    </tr>\n",
       "    <tr>\n",
       "      <th>8289</th>\n",
       "      <td>000D3ABF84C3BB2E11EC002F09452B08</td>\n",
       "      <td>7</td>\n",
       "      <td>1,2,3</td>\n",
       "      <td>2023-11-02T00:00:00.000Z</td>\n",
       "      <td>2023-11-05T23:59:00.000Z</td>\n",
       "      <td>1249</td>\n",
       "      <td>250.0</td>\n",
       "      <td>0</td>\n",
       "      <td>2</td>\n",
       "      <td>1</td>\n",
       "      <td>18</td>\n",
       "      <td>0.055556</td>\n",
       "    </tr>\n",
       "    <tr>\n",
       "      <th>3424</th>\n",
       "      <td>000D3A2231E0A95111E80D6472C671FC</td>\n",
       "      <td>7</td>\n",
       "      <td>1,2,3</td>\n",
       "      <td>2023-11-02T00:00:00.000Z</td>\n",
       "      <td>2023-11-05T23:59:00.000Z</td>\n",
       "      <td>1249</td>\n",
       "      <td>250.0</td>\n",
       "      <td>0</td>\n",
       "      <td>54</td>\n",
       "      <td>2</td>\n",
       "      <td>14</td>\n",
       "      <td>0.142857</td>\n",
       "    </tr>\n",
       "    <tr>\n",
       "      <th>16536</th>\n",
       "      <td>3E9C0E94CE8C96CE11ED927A7EC61B76</td>\n",
       "      <td>7</td>\n",
       "      <td>1,2,3</td>\n",
       "      <td>2023-11-02T00:00:00.000Z</td>\n",
       "      <td>2023-11-05T23:59:00.000Z</td>\n",
       "      <td>1249</td>\n",
       "      <td>250.0</td>\n",
       "      <td>0</td>\n",
       "      <td>12</td>\n",
       "      <td>0</td>\n",
       "      <td>12</td>\n",
       "      <td>0.000000</td>\n",
       "    </tr>\n",
       "    <tr>\n",
       "      <th>2658</th>\n",
       "      <td>000D3A21DA51A81211E9374AEFDD1168</td>\n",
       "      <td>6</td>\n",
       "      <td>1,2,3</td>\n",
       "      <td>2023-11-02T00:00:00.000Z</td>\n",
       "      <td>2023-11-05T23:59:00.000Z</td>\n",
       "      <td>1249</td>\n",
       "      <td>187.0</td>\n",
       "      <td>0</td>\n",
       "      <td>16</td>\n",
       "      <td>3</td>\n",
       "      <td>28</td>\n",
       "      <td>0.107143</td>\n",
       "    </tr>\n",
       "    <tr>\n",
       "      <th>18596</th>\n",
       "      <td>000D3AAC977BBB2D11EC672C86534065</td>\n",
       "      <td>7</td>\n",
       "      <td>2,3</td>\n",
       "      <td>2023-11-02T00:00:00.000Z</td>\n",
       "      <td>2023-11-05T23:59:00.000Z</td>\n",
       "      <td>799</td>\n",
       "      <td>200.0</td>\n",
       "      <td>0</td>\n",
       "      <td>2</td>\n",
       "      <td>1</td>\n",
       "      <td>14</td>\n",
       "      <td>0.071429</td>\n",
       "    </tr>\n",
       "    <tr>\n",
       "      <th>10815</th>\n",
       "      <td>000D3A21DA51A81411EAC5B481AD0F29</td>\n",
       "      <td>6</td>\n",
       "      <td>2,3</td>\n",
       "      <td>2023-11-02T00:00:00.000Z</td>\n",
       "      <td>2023-11-05T23:59:00.000Z</td>\n",
       "      <td>749</td>\n",
       "      <td>150.0</td>\n",
       "      <td>0</td>\n",
       "      <td>26</td>\n",
       "      <td>0</td>\n",
       "      <td>18</td>\n",
       "      <td>0.000000</td>\n",
       "    </tr>\n",
       "    <tr>\n",
       "      <th>1342</th>\n",
       "      <td>000D3A39D824A82E11EA0EA6E14FC59A</td>\n",
       "      <td>6</td>\n",
       "      <td>2,3</td>\n",
       "      <td>2023-11-02T00:00:00.000Z</td>\n",
       "      <td>2023-11-05T23:59:00.000Z</td>\n",
       "      <td>749</td>\n",
       "      <td>187.0</td>\n",
       "      <td>0</td>\n",
       "      <td>2</td>\n",
       "      <td>2</td>\n",
       "      <td>18</td>\n",
       "      <td>0.111111</td>\n",
       "    </tr>\n",
       "    <tr>\n",
       "      <th>4350</th>\n",
       "      <td>000D3A23B0DC80DB11E6F9AAD9C73F53</td>\n",
       "      <td>5</td>\n",
       "      <td>2,3</td>\n",
       "      <td>2023-11-02T00:00:00.000Z</td>\n",
       "      <td>2023-11-05T23:59:00.000Z</td>\n",
       "      <td>799</td>\n",
       "      <td>200.0</td>\n",
       "      <td>1</td>\n",
       "      <td>3</td>\n",
       "      <td>3</td>\n",
       "      <td>18</td>\n",
       "      <td>0.166667</td>\n",
       "    </tr>\n",
       "    <tr>\n",
       "      <th>2025</th>\n",
       "      <td>0291B3EA628D98B911ED2851CC6E7F73</td>\n",
       "      <td>7</td>\n",
       "      <td>1,2,3</td>\n",
       "      <td>2023-11-02T00:00:00.000Z</td>\n",
       "      <td>2023-11-05T23:59:00.000Z</td>\n",
       "      <td>899</td>\n",
       "      <td>150.0</td>\n",
       "      <td>0</td>\n",
       "      <td>29</td>\n",
       "      <td>4</td>\n",
       "      <td>36</td>\n",
       "      <td>0.111111</td>\n",
       "    </tr>\n",
       "  </tbody>\n",
       "</table>\n",
       "</div>"
      ],
      "text/plain": [
       "                             ClientUUId  Id OrderType  \\\n",
       "7460   000D3AAC977BBB2E11EC949C3FB6FF87   7     1,2,3   \n",
       "8289   000D3ABF84C3BB2E11EC002F09452B08   7     1,2,3   \n",
       "3424   000D3A2231E0A95111E80D6472C671FC   7     1,2,3   \n",
       "16536  3E9C0E94CE8C96CE11ED927A7EC61B76   7     1,2,3   \n",
       "2658   000D3A21DA51A81211E9374AEFDD1168   6     1,2,3   \n",
       "18596  000D3AAC977BBB2D11EC672C86534065   7       2,3   \n",
       "10815  000D3A21DA51A81411EAC5B481AD0F29   6       2,3   \n",
       "1342   000D3A39D824A82E11EA0EA6E14FC59A   6       2,3   \n",
       "4350   000D3A23B0DC80DB11E6F9AAD9C73F53   5       2,3   \n",
       "2025   0291B3EA628D98B911ED2851CC6E7F73   7     1,2,3   \n",
       "\n",
       "                 LocalBeginDate              LocalEndDate  OrderPrice  \\\n",
       "7460   2023-11-02T00:00:00.000Z  2023-11-05T23:59:00.000Z        1249   \n",
       "8289   2023-11-02T00:00:00.000Z  2023-11-05T23:59:00.000Z        1249   \n",
       "3424   2023-11-02T00:00:00.000Z  2023-11-05T23:59:00.000Z        1249   \n",
       "16536  2023-11-02T00:00:00.000Z  2023-11-05T23:59:00.000Z        1249   \n",
       "2658   2023-11-02T00:00:00.000Z  2023-11-05T23:59:00.000Z        1249   \n",
       "18596  2023-11-02T00:00:00.000Z  2023-11-05T23:59:00.000Z         799   \n",
       "10815  2023-11-02T00:00:00.000Z  2023-11-05T23:59:00.000Z         749   \n",
       "1342   2023-11-02T00:00:00.000Z  2023-11-05T23:59:00.000Z         749   \n",
       "4350   2023-11-02T00:00:00.000Z  2023-11-05T23:59:00.000Z         799   \n",
       "2025   2023-11-02T00:00:00.000Z  2023-11-05T23:59:00.000Z         899   \n",
       "\n",
       "       Discount  apply_promo  total_orders  total_applied  total_promos  \\\n",
       "7460      200.0            0            15              0            18   \n",
       "8289      250.0            0             2              1            18   \n",
       "3424      250.0            0            54              2            14   \n",
       "16536     250.0            0            12              0            12   \n",
       "2658      187.0            0            16              3            28   \n",
       "18596     200.0            0             2              1            14   \n",
       "10815     150.0            0            26              0            18   \n",
       "1342      187.0            0             2              2            18   \n",
       "4350      200.0            1             3              3            18   \n",
       "2025      150.0            0            29              4            36   \n",
       "\n",
       "       promo_usage  \n",
       "7460      0.000000  \n",
       "8289      0.055556  \n",
       "3424      0.142857  \n",
       "16536     0.000000  \n",
       "2658      0.107143  \n",
       "18596     0.071429  \n",
       "10815     0.000000  \n",
       "1342      0.111111  \n",
       "4350      0.166667  \n",
       "2025      0.111111  "
      ]
     },
     "execution_count": 64,
     "metadata": {},
     "output_type": "execute_result"
    }
   ],
   "source": [
    "train_df.sample(10)"
   ]
  },
  {
   "cell_type": "code",
   "execution_count": 65,
   "metadata": {},
   "outputs": [
    {
     "data": {
      "text/plain": [
       "(19267, 12)"
      ]
     },
     "execution_count": 65,
     "metadata": {},
     "output_type": "execute_result"
    }
   ],
   "source": [
    "train_df.shape"
   ]
  },
  {
   "cell_type": "code",
   "execution_count": 66,
   "metadata": {},
   "outputs": [
    {
     "data": {
      "image/png": "[encoded data removed]",
      "text/plain": [
       "<Figure size 640x480 with 1 Axes>"
      ]
     },
     "metadata": {},
     "output_type": "display_data"
    }
   ],
   "source": [
    "plt.pie(train_df['apply_promo'].value_counts(), autopct='%1.0f%%')\n",
    "plt.title('Promo usage')\n",
    "plt.legend(['Not used', 'Used'])\n",
    "plt.show()"
   ]
  },
  {
   "cell_type": "markdown",
   "metadata": {},
   "source": [
    "## Working on actual test DF"
   ]
  },
  {
   "cell_type": "code",
   "execution_count": null,
   "metadata": {},
   "outputs": [],
   "source": [
    "test_df.sample(3)"
   ]
  },
  {
   "cell_type": "code",
   "execution_count": 67,
   "metadata": {},
   "outputs": [
    {
     "data": {
      "text/plain": [
       "(6806, 7)"
      ]
     },
     "execution_count": 67,
     "metadata": {},
     "output_type": "execute_result"
    }
   ],
   "source": [
    "test_df.shape"
   ]
  },
  {
   "cell_type": "code",
   "execution_count": 68,
   "metadata": {},
   "outputs": [],
   "source": [
    "test_val = test_df.merge(right=client_base, on='ClientUUId', how='left')"
   ]
  },
  {
   "cell_type": "code",
   "execution_count": 69,
   "metadata": {},
   "outputs": [],
   "source": [
    "test_val['Discount'] = np.where(test_val['Id'] == 6,\n",
    "                                 round(test_val['OrderPrice'] * test_val['Discount'] / 100, 0),\n",
    "                                 test_val['Discount'])"
   ]
  },
  {
   "cell_type": "code",
   "execution_count": 70,
   "metadata": {},
   "outputs": [
    {
     "data": {
      "text/html": [
       "<div>\n",
       "<style scoped>\n",
       "    .dataframe tbody tr th:only-of-type {\n",
       "        vertical-align: middle;\n",
       "    }\n",
       "\n",
       "    .dataframe tbody tr th {\n",
       "        vertical-align: top;\n",
       "    }\n",
       "\n",
       "    .dataframe thead th {\n",
       "        text-align: right;\n",
       "    }\n",
       "</style>\n",
       "<table border=\"1\" class=\"dataframe\">\n",
       "  <thead>\n",
       "    <tr style=\"text-align: right;\">\n",
       "      <th></th>\n",
       "      <th>ClientUUId</th>\n",
       "      <th>Id</th>\n",
       "      <th>OrderType</th>\n",
       "      <th>LocalBeginDate</th>\n",
       "      <th>LocalEndDate</th>\n",
       "      <th>OrderPrice</th>\n",
       "      <th>Discount</th>\n",
       "      <th>total_orders</th>\n",
       "      <th>total_applied</th>\n",
       "      <th>total_promos</th>\n",
       "      <th>promo_usage</th>\n",
       "    </tr>\n",
       "  </thead>\n",
       "  <tbody>\n",
       "    <tr>\n",
       "      <th>2396</th>\n",
       "      <td>000D3A22FA54A81311E931BC480603C0</td>\n",
       "      <td>5</td>\n",
       "      <td>2,3</td>\n",
       "      <td>2023-11-02T00:00:00Z</td>\n",
       "      <td>2023-11-05T23:59:00Z</td>\n",
       "      <td>599</td>\n",
       "      <td>150.0</td>\n",
       "      <td>25.0</td>\n",
       "      <td>2.0</td>\n",
       "      <td>18.0</td>\n",
       "      <td>0.111111</td>\n",
       "    </tr>\n",
       "    <tr>\n",
       "      <th>4163</th>\n",
       "      <td>000D3ABF84C3BB2811EB688CF3074370</td>\n",
       "      <td>7</td>\n",
       "      <td>1,2,3</td>\n",
       "      <td>2023-11-02T00:00:00Z</td>\n",
       "      <td>2023-11-05T23:59:00Z</td>\n",
       "      <td>1249</td>\n",
       "      <td>200.0</td>\n",
       "      <td>2.0</td>\n",
       "      <td>2.0</td>\n",
       "      <td>16.0</td>\n",
       "      <td>0.125000</td>\n",
       "    </tr>\n",
       "    <tr>\n",
       "      <th>6683</th>\n",
       "      <td>1E398BFC8319B23811EE2958217CCBDB</td>\n",
       "      <td>7</td>\n",
       "      <td>1,2,3</td>\n",
       "      <td>2023-11-02T00:00:00Z</td>\n",
       "      <td>2023-11-05T23:59:00Z</td>\n",
       "      <td>1249</td>\n",
       "      <td>250.0</td>\n",
       "      <td>9.0</td>\n",
       "      <td>5.0</td>\n",
       "      <td>36.0</td>\n",
       "      <td>0.138889</td>\n",
       "    </tr>\n",
       "  </tbody>\n",
       "</table>\n",
       "</div>"
      ],
      "text/plain": [
       "                            ClientUUId  Id OrderType        LocalBeginDate  \\\n",
       "2396  000D3A22FA54A81311E931BC480603C0   5       2,3  2023-11-02T00:00:00Z   \n",
       "4163  000D3ABF84C3BB2811EB688CF3074370   7     1,2,3  2023-11-02T00:00:00Z   \n",
       "6683  1E398BFC8319B23811EE2958217CCBDB   7     1,2,3  2023-11-02T00:00:00Z   \n",
       "\n",
       "              LocalEndDate  OrderPrice  Discount  total_orders  total_applied  \\\n",
       "2396  2023-11-05T23:59:00Z         599     150.0          25.0            2.0   \n",
       "4163  2023-11-05T23:59:00Z        1249     200.0           2.0            2.0   \n",
       "6683  2023-11-05T23:59:00Z        1249     250.0           9.0            5.0   \n",
       "\n",
       "      total_promos  promo_usage  \n",
       "2396          18.0     0.111111  \n",
       "4163          16.0     0.125000  \n",
       "6683          36.0     0.138889  "
      ]
     },
     "execution_count": 70,
     "metadata": {},
     "output_type": "execute_result"
    }
   ],
   "source": [
    "test_val.sample(3)"
   ]
  },
  {
   "cell_type": "code",
   "execution_count": 71,
   "metadata": {},
   "outputs": [
    {
     "data": {
      "text/plain": [
       "(6806, 11)"
      ]
     },
     "execution_count": 71,
     "metadata": {},
     "output_type": "execute_result"
    }
   ],
   "source": [
    "test_val.shape"
   ]
  },
  {
   "cell_type": "code",
   "execution_count": 72,
   "metadata": {},
   "outputs": [
    {
     "data": {
      "text/plain": [
       "total_orders\n",
       "False    4737\n",
       "True     2069\n",
       "Name: count, dtype: int64"
      ]
     },
     "execution_count": 72,
     "metadata": {},
     "output_type": "execute_result"
    }
   ],
   "source": [
    "test_val['total_orders'].isna().value_counts()"
   ]
  },
  {
   "attachments": {
    "image.png": {
     "image/png": "[encoded data removed]"
    }
   },
   "cell_type": "markdown",
   "metadata": {},
   "source": [
    "managed to beat it by 1000\n",
    "\n",
    "![image.png](attachment:image.png)"
   ]
  },
  {
   "cell_type": "code",
   "execution_count": 74,
   "metadata": {},
   "outputs": [
    {
     "data": {
      "text/plain": [
       "Index(['ClientUUId', 'Id', 'OrderType', 'LocalBeginDate', 'LocalEndDate',\n",
       "       'OrderPrice', 'Discount', 'total_orders', 'total_applied',\n",
       "       'total_promos', 'promo_usage'],\n",
       "      dtype='object')"
      ]
     },
     "execution_count": 74,
     "metadata": {},
     "output_type": "execute_result"
    }
   ],
   "source": [
    "test_val.columns"
   ]
  },
  {
   "cell_type": "code",
   "execution_count": 73,
   "metadata": {},
   "outputs": [],
   "source": [
    "FILLNA = ['total_orders', 'total_applied','total_promos', 'promo_usage']"
   ]
  },
  {
   "cell_type": "code",
   "execution_count": 75,
   "metadata": {},
   "outputs": [],
   "source": [
    "test_val[FILLNA]= test_val[FILLNA].fillna(test_val[FILLNA].interpolate())"
   ]
  },
  {
   "cell_type": "code",
   "execution_count": 76,
   "metadata": {},
   "outputs": [],
   "source": [
    "test_val[['total_orders', 'total_applied','total_promos']] = round(test_val[['total_orders', 'total_applied','total_promos']], 0)"
   ]
  },
  {
   "cell_type": "code",
   "execution_count": 77,
   "metadata": {},
   "outputs": [
    {
     "data": {
      "text/html": [
       "<div>\n",
       "<style scoped>\n",
       "    .dataframe tbody tr th:only-of-type {\n",
       "        vertical-align: middle;\n",
       "    }\n",
       "\n",
       "    .dataframe tbody tr th {\n",
       "        vertical-align: top;\n",
       "    }\n",
       "\n",
       "    .dataframe thead th {\n",
       "        text-align: right;\n",
       "    }\n",
       "</style>\n",
       "<table border=\"1\" class=\"dataframe\">\n",
       "  <thead>\n",
       "    <tr style=\"text-align: right;\">\n",
       "      <th></th>\n",
       "      <th>ClientUUId</th>\n",
       "      <th>Id</th>\n",
       "      <th>OrderType</th>\n",
       "      <th>LocalBeginDate</th>\n",
       "      <th>LocalEndDate</th>\n",
       "      <th>OrderPrice</th>\n",
       "      <th>Discount</th>\n",
       "      <th>total_orders</th>\n",
       "      <th>total_applied</th>\n",
       "      <th>total_promos</th>\n",
       "      <th>promo_usage</th>\n",
       "    </tr>\n",
       "  </thead>\n",
       "  <tbody>\n",
       "    <tr>\n",
       "      <th>865</th>\n",
       "      <td>000D3A2C5B29A94A11E8244D8EF9DD3D</td>\n",
       "      <td>7</td>\n",
       "      <td>2,3</td>\n",
       "      <td>2023-11-02T00:00:00Z</td>\n",
       "      <td>2023-11-05T23:59:00Z</td>\n",
       "      <td>799</td>\n",
       "      <td>200.0</td>\n",
       "      <td>73.0</td>\n",
       "      <td>0.0</td>\n",
       "      <td>18.0</td>\n",
       "      <td>0.000000</td>\n",
       "    </tr>\n",
       "    <tr>\n",
       "      <th>1740</th>\n",
       "      <td>5679BCAB402582FE11EE49653ACD0660</td>\n",
       "      <td>5</td>\n",
       "      <td>2,3</td>\n",
       "      <td>2023-11-02T00:00:00Z</td>\n",
       "      <td>2023-11-05T23:59:00Z</td>\n",
       "      <td>799</td>\n",
       "      <td>200.0</td>\n",
       "      <td>4.0</td>\n",
       "      <td>2.0</td>\n",
       "      <td>18.0</td>\n",
       "      <td>0.083333</td>\n",
       "    </tr>\n",
       "    <tr>\n",
       "      <th>3142</th>\n",
       "      <td>000D3A39D824A82E11E9BFF36C478A43</td>\n",
       "      <td>6</td>\n",
       "      <td>2,3</td>\n",
       "      <td>2023-11-02T00:00:00Z</td>\n",
       "      <td>2023-11-05T23:59:00Z</td>\n",
       "      <td>699</td>\n",
       "      <td>210.0</td>\n",
       "      <td>82.0</td>\n",
       "      <td>4.0</td>\n",
       "      <td>25.0</td>\n",
       "      <td>0.228175</td>\n",
       "    </tr>\n",
       "    <tr>\n",
       "      <th>5516</th>\n",
       "      <td>000D3A258645A95411E842E2E7237C6E</td>\n",
       "      <td>7</td>\n",
       "      <td>1,2,3</td>\n",
       "      <td>2023-11-02T00:00:00Z</td>\n",
       "      <td>2023-11-05T23:59:00Z</td>\n",
       "      <td>1249</td>\n",
       "      <td>200.0</td>\n",
       "      <td>53.0</td>\n",
       "      <td>4.0</td>\n",
       "      <td>28.0</td>\n",
       "      <td>0.142857</td>\n",
       "    </tr>\n",
       "    <tr>\n",
       "      <th>3583</th>\n",
       "      <td>000D3AAF2133A81111EA4D59793313BE</td>\n",
       "      <td>7</td>\n",
       "      <td>2,3</td>\n",
       "      <td>2023-11-02T00:00:00Z</td>\n",
       "      <td>2023-11-05T23:59:00Z</td>\n",
       "      <td>799</td>\n",
       "      <td>200.0</td>\n",
       "      <td>24.0</td>\n",
       "      <td>3.0</td>\n",
       "      <td>28.0</td>\n",
       "      <td>0.107143</td>\n",
       "    </tr>\n",
       "    <tr>\n",
       "      <th>238</th>\n",
       "      <td>000D3A220EF680D511E6C2F1F4308DDA</td>\n",
       "      <td>5</td>\n",
       "      <td>2,3</td>\n",
       "      <td>2023-11-02T00:00:00Z</td>\n",
       "      <td>2023-11-05T23:59:00Z</td>\n",
       "      <td>699</td>\n",
       "      <td>200.0</td>\n",
       "      <td>268.0</td>\n",
       "      <td>1.0</td>\n",
       "      <td>26.0</td>\n",
       "      <td>0.027778</td>\n",
       "    </tr>\n",
       "    <tr>\n",
       "      <th>3981</th>\n",
       "      <td>72E7A16BDD00A2D111ED3C9B3AEA8C5D</td>\n",
       "      <td>5</td>\n",
       "      <td>2,3</td>\n",
       "      <td>2023-11-02T00:00:00Z</td>\n",
       "      <td>2023-11-05T23:59:00Z</td>\n",
       "      <td>749</td>\n",
       "      <td>200.0</td>\n",
       "      <td>39.0</td>\n",
       "      <td>0.0</td>\n",
       "      <td>16.0</td>\n",
       "      <td>0.000000</td>\n",
       "    </tr>\n",
       "    <tr>\n",
       "      <th>2208</th>\n",
       "      <td>000D3A21DA51A81211E9EB852B8EBC39</td>\n",
       "      <td>6</td>\n",
       "      <td>2,3</td>\n",
       "      <td>2023-11-02T00:00:00Z</td>\n",
       "      <td>2023-11-05T23:59:00Z</td>\n",
       "      <td>749</td>\n",
       "      <td>187.0</td>\n",
       "      <td>17.0</td>\n",
       "      <td>1.0</td>\n",
       "      <td>36.0</td>\n",
       "      <td>0.027778</td>\n",
       "    </tr>\n",
       "    <tr>\n",
       "      <th>1830</th>\n",
       "      <td>82BFAECB3DD390C111ED21EBC5D7C2B7</td>\n",
       "      <td>5</td>\n",
       "      <td>2,3</td>\n",
       "      <td>2023-11-02T00:00:00Z</td>\n",
       "      <td>2023-11-05T23:59:00Z</td>\n",
       "      <td>749</td>\n",
       "      <td>150.0</td>\n",
       "      <td>72.0</td>\n",
       "      <td>0.0</td>\n",
       "      <td>18.0</td>\n",
       "      <td>0.000000</td>\n",
       "    </tr>\n",
       "    <tr>\n",
       "      <th>2859</th>\n",
       "      <td>000D3A2715C5A94F11E7D08727E0ACDC</td>\n",
       "      <td>7</td>\n",
       "      <td>2,3</td>\n",
       "      <td>2023-11-02T00:00:00Z</td>\n",
       "      <td>2023-11-05T23:59:00Z</td>\n",
       "      <td>799</td>\n",
       "      <td>200.0</td>\n",
       "      <td>76.0</td>\n",
       "      <td>1.0</td>\n",
       "      <td>16.0</td>\n",
       "      <td>0.062500</td>\n",
       "    </tr>\n",
       "  </tbody>\n",
       "</table>\n",
       "</div>"
      ],
      "text/plain": [
       "                            ClientUUId  Id OrderType        LocalBeginDate  \\\n",
       "865   000D3A2C5B29A94A11E8244D8EF9DD3D   7       2,3  2023-11-02T00:00:00Z   \n",
       "1740  5679BCAB402582FE11EE49653ACD0660   5       2,3  2023-11-02T00:00:00Z   \n",
       "3142  000D3A39D824A82E11E9BFF36C478A43   6       2,3  2023-11-02T00:00:00Z   \n",
       "5516  000D3A258645A95411E842E2E7237C6E   7     1,2,3  2023-11-02T00:00:00Z   \n",
       "3583  000D3AAF2133A81111EA4D59793313BE   7       2,3  2023-11-02T00:00:00Z   \n",
       "238   000D3A220EF680D511E6C2F1F4308DDA   5       2,3  2023-11-02T00:00:00Z   \n",
       "3981  72E7A16BDD00A2D111ED3C9B3AEA8C5D   5       2,3  2023-11-02T00:00:00Z   \n",
       "2208  000D3A21DA51A81211E9EB852B8EBC39   6       2,3  2023-11-02T00:00:00Z   \n",
       "1830  82BFAECB3DD390C111ED21EBC5D7C2B7   5       2,3  2023-11-02T00:00:00Z   \n",
       "2859  000D3A2715C5A94F11E7D08727E0ACDC   7       2,3  2023-11-02T00:00:00Z   \n",
       "\n",
       "              LocalEndDate  OrderPrice  Discount  total_orders  total_applied  \\\n",
       "865   2023-11-05T23:59:00Z         799     200.0          73.0            0.0   \n",
       "1740  2023-11-05T23:59:00Z         799     200.0           4.0            2.0   \n",
       "3142  2023-11-05T23:59:00Z         699     210.0          82.0            4.0   \n",
       "5516  2023-11-05T23:59:00Z        1249     200.0          53.0            4.0   \n",
       "3583  2023-11-05T23:59:00Z         799     200.0          24.0            3.0   \n",
       "238   2023-11-05T23:59:00Z         699     200.0         268.0            1.0   \n",
       "3981  2023-11-05T23:59:00Z         749     200.0          39.0            0.0   \n",
       "2208  2023-11-05T23:59:00Z         749     187.0          17.0            1.0   \n",
       "1830  2023-11-05T23:59:00Z         749     150.0          72.0            0.0   \n",
       "2859  2023-11-05T23:59:00Z         799     200.0          76.0            1.0   \n",
       "\n",
       "      total_promos  promo_usage  \n",
       "865           18.0     0.000000  \n",
       "1740          18.0     0.083333  \n",
       "3142          25.0     0.228175  \n",
       "5516          28.0     0.142857  \n",
       "3583          28.0     0.107143  \n",
       "238           26.0     0.027778  \n",
       "3981          16.0     0.000000  \n",
       "2208          36.0     0.027778  \n",
       "1830          18.0     0.000000  \n",
       "2859          16.0     0.062500  "
      ]
     },
     "execution_count": 77,
     "metadata": {},
     "output_type": "execute_result"
    }
   ],
   "source": [
    "test_val.sample(10)"
   ]
  },
  {
   "cell_type": "code",
   "execution_count": 78,
   "metadata": {},
   "outputs": [
    {
     "data": {
      "text/plain": [
       "(6806, 11)"
      ]
     },
     "execution_count": 78,
     "metadata": {},
     "output_type": "execute_result"
    }
   ],
   "source": [
    "test_val.shape"
   ]
  },
  {
   "cell_type": "markdown",
   "metadata": {},
   "source": [
    "## Setting data types"
   ]
  },
  {
   "cell_type": "markdown",
   "metadata": {},
   "source": [
    "### Training dataset"
   ]
  },
  {
   "cell_type": "code",
   "execution_count": 79,
   "metadata": {},
   "outputs": [
    {
     "data": {
      "text/plain": [
       "ClientUUId         object\n",
       "Id                  int64\n",
       "OrderType          object\n",
       "LocalBeginDate     object\n",
       "LocalEndDate       object\n",
       "OrderPrice          int64\n",
       "Discount          float64\n",
       "apply_promo         int64\n",
       "total_orders        int64\n",
       "total_applied       int64\n",
       "total_promos        int64\n",
       "promo_usage       float64\n",
       "dtype: object"
      ]
     },
     "execution_count": 79,
     "metadata": {},
     "output_type": "execute_result"
    }
   ],
   "source": [
    "train_df.dtypes"
   ]
  },
  {
   "cell_type": "code",
   "execution_count": 80,
   "metadata": {},
   "outputs": [
    {
     "data": {
      "text/plain": [
       "array([ 699, 1249,  799,  999, 1199,  749,  899, 1049, 1149,  849,  599,\n",
       "       1099,  949,  649], dtype=int64)"
      ]
     },
     "execution_count": 80,
     "metadata": {},
     "output_type": "execute_result"
    }
   ],
   "source": [
    "train_df['OrderPrice'].unique()"
   ]
  },
  {
   "cell_type": "code",
   "execution_count": 81,
   "metadata": {},
   "outputs": [],
   "source": [
    "train_df['OrderType'] = [int(record) for record in train_df['OrderType'].str.split(\",\").str.join(\"\")]"
   ]
  },
  {
   "cell_type": "code",
   "execution_count": 82,
   "metadata": {},
   "outputs": [],
   "source": [
    "train_df['ClientUUId'] = train_df['ClientUUId'].astype('category')\n",
    "train_df['Id'] = train_df['Id'].astype('category')\n",
    "train_df['OrderType'] = train_df['OrderType'].astype('category')\n",
    "train_df['LocalBeginDate'] = pd.to_numeric(pd.to_datetime(train_df['LocalBeginDate']))\n",
    "train_df['LocalEndDate'] = pd.to_numeric(pd.to_datetime(train_df['LocalEndDate']))\n",
    "train_df['OrderPrice'] = train_df['OrderPrice'].astype('int32')\n",
    "train_df['Discount'] = train_df['Discount'].astype('int32')\n",
    "train_df['total_orders'] = train_df['total_orders'].astype('int16')\n",
    "train_df['total_applied'] = train_df['total_applied'].astype('int16')\n",
    "train_df['total_promos'] = train_df['total_promos'].astype('int16')\n",
    "train_df['promo_usage'] = train_df['promo_usage'].astype('float16')\n",
    "\n"
   ]
  },
  {
   "cell_type": "code",
   "execution_count": 83,
   "metadata": {},
   "outputs": [
    {
     "data": {
      "text/plain": [
       "ClientUUId        category\n",
       "Id                category\n",
       "OrderType         category\n",
       "LocalBeginDate       int64\n",
       "LocalEndDate         int64\n",
       "OrderPrice           int32\n",
       "Discount             int32\n",
       "apply_promo          int64\n",
       "total_orders         int16\n",
       "total_applied        int16\n",
       "total_promos         int16\n",
       "promo_usage        float16\n",
       "dtype: object"
      ]
     },
     "execution_count": 83,
     "metadata": {},
     "output_type": "execute_result"
    }
   ],
   "source": [
    "train_df.dtypes"
   ]
  },
  {
   "cell_type": "markdown",
   "metadata": {},
   "source": [
    "### Testing + validation dataset"
   ]
  },
  {
   "cell_type": "code",
   "execution_count": 84,
   "metadata": {},
   "outputs": [
    {
     "data": {
      "text/plain": [
       "ClientUUId         object\n",
       "Id                  int64\n",
       "OrderType          object\n",
       "LocalBeginDate     object\n",
       "LocalEndDate       object\n",
       "OrderPrice          int64\n",
       "Discount          float64\n",
       "total_orders      float64\n",
       "total_applied     float64\n",
       "total_promos      float64\n",
       "promo_usage       float64\n",
       "dtype: object"
      ]
     },
     "execution_count": 84,
     "metadata": {},
     "output_type": "execute_result"
    }
   ],
   "source": [
    "test_val.dtypes"
   ]
  },
  {
   "cell_type": "code",
   "execution_count": 85,
   "metadata": {},
   "outputs": [],
   "source": [
    "test_val['OrderType'] = [int(record) for record in test_val['OrderType'].str.split(\",\").str.join(\"\")]"
   ]
  },
  {
   "cell_type": "code",
   "execution_count": 86,
   "metadata": {},
   "outputs": [],
   "source": [
    "test_val['ClientUUId'] = test_val['ClientUUId'].astype('category')\n",
    "test_val['Id'] = test_val['Id'].astype('category')\n",
    "test_val['OrderType'] = test_val['OrderType'].astype('category')\n",
    "test_val['LocalBeginDate'] = pd.to_numeric(pd.to_datetime(test_val['LocalBeginDate']))\n",
    "test_val['LocalEndDate'] = pd.to_numeric(pd.to_datetime(test_val['LocalEndDate']))\n",
    "test_val['OrderPrice'] = test_val['OrderPrice'].astype('int32')\n",
    "test_val['Discount'] = test_val['Discount'].astype('int32')\n",
    "test_val['total_orders'] = test_val['total_orders'].astype('int16')\n",
    "test_val['total_applied'] = test_val['total_applied'].astype('int16')\n",
    "test_val['total_promos'] = test_val['total_promos'].astype('int16')\n",
    "test_val['promo_usage'] = test_val['promo_usage'].astype('float16')\n",
    "\n"
   ]
  },
  {
   "cell_type": "code",
   "execution_count": 87,
   "metadata": {},
   "outputs": [
    {
     "data": {
      "text/plain": [
       "ClientUUId        category\n",
       "Id                category\n",
       "OrderType         category\n",
       "LocalBeginDate       int64\n",
       "LocalEndDate         int64\n",
       "OrderPrice           int32\n",
       "Discount             int32\n",
       "total_orders         int16\n",
       "total_applied        int16\n",
       "total_promos         int16\n",
       "promo_usage        float16\n",
       "dtype: object"
      ]
     },
     "execution_count": 87,
     "metadata": {},
     "output_type": "execute_result"
    }
   ],
   "source": [
    "test_val.dtypes"
   ]
  },
  {
   "cell_type": "markdown",
   "metadata": {},
   "source": [
    "## TRAIN-TEST Split"
   ]
  },
  {
   "cell_type": "code",
   "execution_count": 88,
   "metadata": {},
   "outputs": [
    {
     "data": {
      "text/plain": [
       "Index(['ClientUUId', 'Id', 'OrderType', 'LocalBeginDate', 'LocalEndDate',\n",
       "       'OrderPrice', 'Discount', 'apply_promo', 'total_orders',\n",
       "       'total_applied', 'total_promos', 'promo_usage'],\n",
       "      dtype='object')"
      ]
     },
     "execution_count": 88,
     "metadata": {},
     "output_type": "execute_result"
    }
   ],
   "source": [
    "train_df.columns"
   ]
  },
  {
   "cell_type": "code",
   "execution_count": 89,
   "metadata": {},
   "outputs": [],
   "source": [
    "FEATURES,\\\n",
    "      TARGET = ['ClientUUId', 'Id', 'OrderType', 'LocalBeginDate', 'LocalEndDate',\n",
    "                    'OrderPrice', 'Discount', 'total_orders', 'total_applied', 'total_promos',\n",
    "                      'promo_usage'],\\\n",
    "                          ['apply_promo']   "
   ]
  },
  {
   "cell_type": "code",
   "execution_count": 90,
   "metadata": {},
   "outputs": [],
   "source": [
    "X, y = train_df[FEATURES], train_df[TARGET]"
   ]
  },
  {
   "cell_type": "code",
   "execution_count": 91,
   "metadata": {},
   "outputs": [],
   "source": [
    "X_train, X_test, y_train, y_test = train_test_split(X, y, train_size=0.8, shuffle=True)"
   ]
  },
  {
   "cell_type": "code",
   "execution_count": null,
   "metadata": {},
   "outputs": [],
   "source": [
    "X_test.head(3)"
   ]
  },
  {
   "cell_type": "markdown",
   "metadata": {},
   "source": [
    "## Pipeline"
   ]
  },
  {
   "cell_type": "markdown",
   "metadata": {},
   "source": [
    "### Categorical features"
   ]
  },
  {
   "cell_type": "code",
   "execution_count": 92,
   "metadata": {},
   "outputs": [],
   "source": [
    "CATEGORICAL =  X.select_dtypes(include=['category']).columns"
   ]
  },
  {
   "cell_type": "code",
   "execution_count": 93,
   "metadata": {},
   "outputs": [],
   "source": [
    "categorical_transformer = Pipeline(\n",
    "    steps=[('onehot', OneHotEncoder(handle_unknown='ignore'))]\n",
    ")"
   ]
  },
  {
   "cell_type": "markdown",
   "metadata": {},
   "source": [
    "### Numerical features"
   ]
  },
  {
   "cell_type": "code",
   "execution_count": 94,
   "metadata": {},
   "outputs": [],
   "source": [
    "NUMERIC = X.select_dtypes(include=['int64', 'int32', 'int16', 'float16']).columns"
   ]
  },
  {
   "cell_type": "code",
   "execution_count": 95,
   "metadata": {},
   "outputs": [],
   "source": [
    "numeric_transformer = Pipeline(\n",
    "    steps=[('scaler', StandardScaler())]\n",
    ")"
   ]
  },
  {
   "cell_type": "markdown",
   "metadata": {},
   "source": [
    "### Preprocessor"
   ]
  },
  {
   "cell_type": "code",
   "execution_count": 96,
   "metadata": {},
   "outputs": [],
   "source": [
    "preprocessor = ColumnTransformer(\n",
    "    transformers=[\n",
    "        ('cat', categorical_transformer, CATEGORICAL),\n",
    "        ('num', numeric_transformer, NUMERIC)\n",
    "    ]\n",
    ")"
   ]
  },
  {
   "cell_type": "markdown",
   "metadata": {},
   "source": [
    "## Model selection"
   ]
  },
  {
   "cell_type": "code",
   "execution_count": 110,
   "metadata": {},
   "outputs": [],
   "source": [
    "model = Pipeline(\n",
    "    steps=[('preprocessor', preprocessor),\n",
    "           ('classifier', RandomForestRegressor(criterion='poisson', random_state=42))\n",
    "    ]\n",
    ")"
   ]
  },
  {
   "cell_type": "code",
   "execution_count": 111,
   "metadata": {},
   "outputs": [
    {
     "data": {
      "text/html": [
       "<div>\n",
       "<style scoped>\n",
       "    .dataframe tbody tr th:only-of-type {\n",
       "        vertical-align: middle;\n",
       "    }\n",
       "\n",
       "    .dataframe tbody tr th {\n",
       "        vertical-align: top;\n",
       "    }\n",
       "\n",
       "    .dataframe thead th {\n",
       "        text-align: right;\n",
       "    }\n",
       "</style>\n",
       "<table border=\"1\" class=\"dataframe\">\n",
       "  <thead>\n",
       "    <tr style=\"text-align: right;\">\n",
       "      <th></th>\n",
       "      <th>ClientUUId</th>\n",
       "      <th>Id</th>\n",
       "      <th>OrderType</th>\n",
       "      <th>LocalBeginDate</th>\n",
       "      <th>LocalEndDate</th>\n",
       "      <th>OrderPrice</th>\n",
       "      <th>Discount</th>\n",
       "      <th>total_orders</th>\n",
       "      <th>total_applied</th>\n",
       "      <th>total_promos</th>\n",
       "      <th>promo_usage</th>\n",
       "    </tr>\n",
       "  </thead>\n",
       "  <tbody>\n",
       "    <tr>\n",
       "      <th>16097</th>\n",
       "      <td>000D3ABF84C3BB3011ECD12E92EB5C9E</td>\n",
       "      <td>6</td>\n",
       "      <td>23</td>\n",
       "      <td>1698883200000000000</td>\n",
       "      <td>1699228740000000000</td>\n",
       "      <td>699</td>\n",
       "      <td>140</td>\n",
       "      <td>5</td>\n",
       "      <td>0</td>\n",
       "      <td>16</td>\n",
       "      <td>0.000000</td>\n",
       "    </tr>\n",
       "    <tr>\n",
       "      <th>4715</th>\n",
       "      <td>000D3A244991A94211E85539BEADB3FC</td>\n",
       "      <td>5</td>\n",
       "      <td>23</td>\n",
       "      <td>1698883200000000000</td>\n",
       "      <td>1699228740000000000</td>\n",
       "      <td>749</td>\n",
       "      <td>200</td>\n",
       "      <td>23</td>\n",
       "      <td>2</td>\n",
       "      <td>36</td>\n",
       "      <td>0.055542</td>\n",
       "    </tr>\n",
       "    <tr>\n",
       "      <th>2097</th>\n",
       "      <td>269E1CE26BB5903411EDB33B1CD7B091</td>\n",
       "      <td>5</td>\n",
       "      <td>123</td>\n",
       "      <td>1698883200000000000</td>\n",
       "      <td>1699228740000000000</td>\n",
       "      <td>1249</td>\n",
       "      <td>250</td>\n",
       "      <td>4</td>\n",
       "      <td>1</td>\n",
       "      <td>32</td>\n",
       "      <td>0.031250</td>\n",
       "    </tr>\n",
       "    <tr>\n",
       "      <th>6620</th>\n",
       "      <td>000D3A39D824A82E11E9EDCA7B61495D</td>\n",
       "      <td>7</td>\n",
       "      <td>23</td>\n",
       "      <td>1698883200000000000</td>\n",
       "      <td>1699228740000000000</td>\n",
       "      <td>799</td>\n",
       "      <td>200</td>\n",
       "      <td>56</td>\n",
       "      <td>7</td>\n",
       "      <td>16</td>\n",
       "      <td>0.437500</td>\n",
       "    </tr>\n",
       "    <tr>\n",
       "      <th>18717</th>\n",
       "      <td>000D3AAC9DCABB2E11EBFF426FEE7206</td>\n",
       "      <td>7</td>\n",
       "      <td>23</td>\n",
       "      <td>1698883200000000000</td>\n",
       "      <td>1699228740000000000</td>\n",
       "      <td>599</td>\n",
       "      <td>130</td>\n",
       "      <td>29</td>\n",
       "      <td>1</td>\n",
       "      <td>16</td>\n",
       "      <td>0.062500</td>\n",
       "    </tr>\n",
       "  </tbody>\n",
       "</table>\n",
       "</div>"
      ],
      "text/plain": [
       "                             ClientUUId Id OrderType       LocalBeginDate  \\\n",
       "16097  000D3ABF84C3BB3011ECD12E92EB5C9E  6        23  1698883200000000000   \n",
       "4715   000D3A244991A94211E85539BEADB3FC  5        23  1698883200000000000   \n",
       "2097   269E1CE26BB5903411EDB33B1CD7B091  5       123  1698883200000000000   \n",
       "6620   000D3A39D824A82E11E9EDCA7B61495D  7        23  1698883200000000000   \n",
       "18717  000D3AAC9DCABB2E11EBFF426FEE7206  7        23  1698883200000000000   \n",
       "\n",
       "              LocalEndDate  OrderPrice  Discount  total_orders  total_applied  \\\n",
       "16097  1699228740000000000         699       140             5              0   \n",
       "4715   1699228740000000000         749       200            23              2   \n",
       "2097   1699228740000000000        1249       250             4              1   \n",
       "6620   1699228740000000000         799       200            56              7   \n",
       "18717  1699228740000000000         599       130            29              1   \n",
       "\n",
       "       total_promos  promo_usage  \n",
       "16097            16     0.000000  \n",
       "4715             36     0.055542  \n",
       "2097             32     0.031250  \n",
       "6620             16     0.437500  \n",
       "18717            16     0.062500  "
      ]
     },
     "execution_count": 111,
     "metadata": {},
     "output_type": "execute_result"
    }
   ],
   "source": [
    "X_train.head()"
   ]
  },
  {
   "cell_type": "code",
   "execution_count": 100,
   "metadata": {},
   "outputs": [
    {
     "data": {
      "text/html": [
       "<style>#sk-container-id-1 {\n",
       "  /* Definition of color scheme common for light and dark mode */\n",
       "  --sklearn-color-text: black;\n",
       "  --sklearn-color-line: gray;\n",
       "  /* Definition of color scheme for unfitted estimators */\n",
       "  --sklearn-color-unfitted-level-0: #fff5e6;\n",
       "  --sklearn-color-unfitted-level-1: #f6e4d2;\n",
       "  --sklearn-color-unfitted-level-2: #ffe0b3;\n",
       "  --sklearn-color-unfitted-level-3: chocolate;\n",
       "  /* Definition of color scheme for fitted estimators */\n",
       "  --sklearn-color-fitted-level-0: #f0f8ff;\n",
       "  --sklearn-color-fitted-level-1: #d4ebff;\n",
       "  --sklearn-color-fitted-level-2: #b3dbfd;\n",
       "  --sklearn-color-fitted-level-3: cornflowerblue;\n",
       "\n",
       "  /* Specific color for light theme */\n",
       "  --sklearn-color-text-on-default-background: var(--sg-text-color, var(--theme-code-foreground, var(--jp-content-font-color1, black)));\n",
       "  --sklearn-color-background: var(--sg-background-color, var(--theme-background, var(--jp-layout-color0, white)));\n",
       "  --sklearn-color-border-box: var(--sg-text-color, var(--theme-code-foreground, var(--jp-content-font-color1, black)));\n",
       "  --sklearn-color-icon: #696969;\n",
       "\n",
       "  @media (prefers-color-scheme: dark) {\n",
       "    /* Redefinition of color scheme for dark theme */\n",
       "    --sklearn-color-text-on-default-background: var(--sg-text-color, var(--theme-code-foreground, var(--jp-content-font-color1, white)));\n",
       "    --sklearn-color-background: var(--sg-background-color, var(--theme-background, var(--jp-layout-color0, #111)));\n",
       "    --sklearn-color-border-box: var(--sg-text-color, var(--theme-code-foreground, var(--jp-content-font-color1, white)));\n",
       "    --sklearn-color-icon: #878787;\n",
       "  }\n",
       "}\n",
       "\n",
       "#sk-container-id-1 {\n",
       "  color: var(--sklearn-color-text);\n",
       "}\n",
       "\n",
       "#sk-container-id-1 pre {\n",
       "  padding: 0;\n",
       "}\n",
       "\n",
       "#sk-container-id-1 input.sk-hidden--visually {\n",
       "  border: 0;\n",
       "  clip: rect(1px 1px 1px 1px);\n",
       "  clip: rect(1px, 1px, 1px, 1px);\n",
       "  height: 1px;\n",
       "  margin: -1px;\n",
       "  overflow: hidden;\n",
       "  padding: 0;\n",
       "  position: absolute;\n",
       "  width: 1px;\n",
       "}\n",
       "\n",
       "#sk-container-id-1 div.sk-dashed-wrapped {\n",
       "  border: 1px dashed var(--sklearn-color-line);\n",
       "  margin: 0 0.4em 0.5em 0.4em;\n",
       "  box-sizing: border-box;\n",
       "  padding-bottom: 0.4em;\n",
       "  background-color: var(--sklearn-color-background);\n",
       "}\n",
       "\n",
       "#sk-container-id-1 div.sk-container {\n",
       "  /* jupyter's `normalize.less` sets `[hidden] { display: none; }`\n",
       "     but bootstrap.min.css set `[hidden] { display: none !important; }`\n",
       "     so we also need the `!important` here to be able to override the\n",
       "     default hidden behavior on the sphinx rendered scikit-learn.org.\n",
       "     See: https://github.com/scikit-learn/scikit-learn/issues/21755 */\n",
       "  display: inline-block !important;\n",
       "  position: relative;\n",
       "}\n",
       "\n",
       "#sk-container-id-1 div.sk-text-repr-fallback {\n",
       "  display: none;\n",
       "}\n",
       "\n",
       "div.sk-parallel-item,\n",
       "div.sk-serial,\n",
       "div.sk-item {\n",
       "  /* draw centered vertical line to link estimators */\n",
       "  background-image: linear-gradient(var(--sklearn-color-text-on-default-background), var(--sklearn-color-text-on-default-background));\n",
       "  background-size: 2px 100%;\n",
       "  background-repeat: no-repeat;\n",
       "  background-position: center center;\n",
       "}\n",
       "\n",
       "/* Parallel-specific style estimator block */\n",
       "\n",
       "#sk-container-id-1 div.sk-parallel-item::after {\n",
       "  content: \"\";\n",
       "  width: 100%;\n",
       "  border-bottom: 2px solid var(--sklearn-color-text-on-default-background);\n",
       "  flex-grow: 1;\n",
       "}\n",
       "\n",
       "#sk-container-id-1 div.sk-parallel {\n",
       "  display: flex;\n",
       "  align-items: stretch;\n",
       "  justify-content: center;\n",
       "  background-color: var(--sklearn-color-background);\n",
       "  position: relative;\n",
       "}\n",
       "\n",
       "#sk-container-id-1 div.sk-parallel-item {\n",
       "  display: flex;\n",
       "  flex-direction: column;\n",
       "}\n",
       "\n",
       "#sk-container-id-1 div.sk-parallel-item:first-child::after {\n",
       "  align-self: flex-end;\n",
       "  width: 50%;\n",
       "}\n",
       "\n",
       "#sk-container-id-1 div.sk-parallel-item:last-child::after {\n",
       "  align-self: flex-start;\n",
       "  width: 50%;\n",
       "}\n",
       "\n",
       "#sk-container-id-1 div.sk-parallel-item:only-child::after {\n",
       "  width: 0;\n",
       "}\n",
       "\n",
       "/* Serial-specific style estimator block */\n",
       "\n",
       "#sk-container-id-1 div.sk-serial {\n",
       "  display: flex;\n",
       "  flex-direction: column;\n",
       "  align-items: center;\n",
       "  background-color: var(--sklearn-color-background);\n",
       "  padding-right: 1em;\n",
       "  padding-left: 1em;\n",
       "}\n",
       "\n",
       "\n",
       "/* Toggleable style: style used for estimator/Pipeline/ColumnTransformer box that is\n",
       "clickable and can be expanded/collapsed.\n",
       "- Pipeline and ColumnTransformer use this feature and define the default style\n",
       "- Estimators will overwrite some part of the style using the `sk-estimator` class\n",
       "*/\n",
       "\n",
       "/* Pipeline and ColumnTransformer style (default) */\n",
       "\n",
       "#sk-container-id-1 div.sk-toggleable {\n",
       "  /* Default theme specific background. It is overwritten whether we have a\n",
       "  specific estimator or a Pipeline/ColumnTransformer */\n",
       "  background-color: var(--sklearn-color-background);\n",
       "}\n",
       "\n",
       "/* Toggleable label */\n",
       "#sk-container-id-1 label.sk-toggleable__label {\n",
       "  cursor: pointer;\n",
       "  display: block;\n",
       "  width: 100%;\n",
       "  margin-bottom: 0;\n",
       "  padding: 0.5em;\n",
       "  box-sizing: border-box;\n",
       "  text-align: center;\n",
       "}\n",
       "\n",
       "#sk-container-id-1 label.sk-toggleable__label-arrow:before {\n",
       "  /* Arrow on the left of the label */\n",
       "  content: \"▸\";\n",
       "  float: left;\n",
       "  margin-right: 0.25em;\n",
       "  color: var(--sklearn-color-icon);\n",
       "}\n",
       "\n",
       "#sk-container-id-1 label.sk-toggleable__label-arrow:hover:before {\n",
       "  color: var(--sklearn-color-text);\n",
       "}\n",
       "\n",
       "/* Toggleable content - dropdown */\n",
       "\n",
       "#sk-container-id-1 div.sk-toggleable__content {\n",
       "  max-height: 0;\n",
       "  max-width: 0;\n",
       "  overflow: hidden;\n",
       "  text-align: left;\n",
       "  /* unfitted */\n",
       "  background-color: var(--sklearn-color-unfitted-level-0);\n",
       "}\n",
       "\n",
       "#sk-container-id-1 div.sk-toggleable__content.fitted {\n",
       "  /* fitted */\n",
       "  background-color: var(--sklearn-color-fitted-level-0);\n",
       "}\n",
       "\n",
       "#sk-container-id-1 div.sk-toggleable__content pre {\n",
       "  margin: 0.2em;\n",
       "  border-radius: 0.25em;\n",
       "  color: var(--sklearn-color-text);\n",
       "  /* unfitted */\n",
       "  background-color: var(--sklearn-color-unfitted-level-0);\n",
       "}\n",
       "\n",
       "#sk-container-id-1 div.sk-toggleable__content.fitted pre {\n",
       "  /* unfitted */\n",
       "  background-color: var(--sklearn-color-fitted-level-0);\n",
       "}\n",
       "\n",
       "#sk-container-id-1 input.sk-toggleable__control:checked~div.sk-toggleable__content {\n",
       "  /* Expand drop-down */\n",
       "  max-height: 200px;\n",
       "  max-width: 100%;\n",
       "  overflow: auto;\n",
       "}\n",
       "\n",
       "#sk-container-id-1 input.sk-toggleable__control:checked~label.sk-toggleable__label-arrow:before {\n",
       "  content: \"▾\";\n",
       "}\n",
       "\n",
       "/* Pipeline/ColumnTransformer-specific style */\n",
       "\n",
       "#sk-container-id-1 div.sk-label input.sk-toggleable__control:checked~label.sk-toggleable__label {\n",
       "  color: var(--sklearn-color-text);\n",
       "  background-color: var(--sklearn-color-unfitted-level-2);\n",
       "}\n",
       "\n",
       "#sk-container-id-1 div.sk-label.fitted input.sk-toggleable__control:checked~label.sk-toggleable__label {\n",
       "  background-color: var(--sklearn-color-fitted-level-2);\n",
       "}\n",
       "\n",
       "/* Estimator-specific style */\n",
       "\n",
       "/* Colorize estimator box */\n",
       "#sk-container-id-1 div.sk-estimator input.sk-toggleable__control:checked~label.sk-toggleable__label {\n",
       "  /* unfitted */\n",
       "  background-color: var(--sklearn-color-unfitted-level-2);\n",
       "}\n",
       "\n",
       "#sk-container-id-1 div.sk-estimator.fitted input.sk-toggleable__control:checked~label.sk-toggleable__label {\n",
       "  /* fitted */\n",
       "  background-color: var(--sklearn-color-fitted-level-2);\n",
       "}\n",
       "\n",
       "#sk-container-id-1 div.sk-label label.sk-toggleable__label,\n",
       "#sk-container-id-1 div.sk-label label {\n",
       "  /* The background is the default theme color */\n",
       "  color: var(--sklearn-color-text-on-default-background);\n",
       "}\n",
       "\n",
       "/* On hover, darken the color of the background */\n",
       "#sk-container-id-1 div.sk-label:hover label.sk-toggleable__label {\n",
       "  color: var(--sklearn-color-text);\n",
       "  background-color: var(--sklearn-color-unfitted-level-2);\n",
       "}\n",
       "\n",
       "/* Label box, darken color on hover, fitted */\n",
       "#sk-container-id-1 div.sk-label.fitted:hover label.sk-toggleable__label.fitted {\n",
       "  color: var(--sklearn-color-text);\n",
       "  background-color: var(--sklearn-color-fitted-level-2);\n",
       "}\n",
       "\n",
       "/* Estimator label */\n",
       "\n",
       "#sk-container-id-1 div.sk-label label {\n",
       "  font-family: monospace;\n",
       "  font-weight: bold;\n",
       "  display: inline-block;\n",
       "  line-height: 1.2em;\n",
       "}\n",
       "\n",
       "#sk-container-id-1 div.sk-label-container {\n",
       "  text-align: center;\n",
       "}\n",
       "\n",
       "/* Estimator-specific */\n",
       "#sk-container-id-1 div.sk-estimator {\n",
       "  font-family: monospace;\n",
       "  border: 1px dotted var(--sklearn-color-border-box);\n",
       "  border-radius: 0.25em;\n",
       "  box-sizing: border-box;\n",
       "  margin-bottom: 0.5em;\n",
       "  /* unfitted */\n",
       "  background-color: var(--sklearn-color-unfitted-level-0);\n",
       "}\n",
       "\n",
       "#sk-container-id-1 div.sk-estimator.fitted {\n",
       "  /* fitted */\n",
       "  background-color: var(--sklearn-color-fitted-level-0);\n",
       "}\n",
       "\n",
       "/* on hover */\n",
       "#sk-container-id-1 div.sk-estimator:hover {\n",
       "  /* unfitted */\n",
       "  background-color: var(--sklearn-color-unfitted-level-2);\n",
       "}\n",
       "\n",
       "#sk-container-id-1 div.sk-estimator.fitted:hover {\n",
       "  /* fitted */\n",
       "  background-color: var(--sklearn-color-fitted-level-2);\n",
       "}\n",
       "\n",
       "/* Specification for estimator info (e.g. \"i\" and \"?\") */\n",
       "\n",
       "/* Common style for \"i\" and \"?\" */\n",
       "\n",
       ".sk-estimator-doc-link,\n",
       "a:link.sk-estimator-doc-link,\n",
       "a:visited.sk-estimator-doc-link {\n",
       "  float: right;\n",
       "  font-size: smaller;\n",
       "  line-height: 1em;\n",
       "  font-family: monospace;\n",
       "  background-color: var(--sklearn-color-background);\n",
       "  border-radius: 1em;\n",
       "  height: 1em;\n",
       "  width: 1em;\n",
       "  text-decoration: none !important;\n",
       "  margin-left: 1ex;\n",
       "  /* unfitted */\n",
       "  border: var(--sklearn-color-unfitted-level-1) 1pt solid;\n",
       "  color: var(--sklearn-color-unfitted-level-1);\n",
       "}\n",
       "\n",
       ".sk-estimator-doc-link.fitted,\n",
       "a:link.sk-estimator-doc-link.fitted,\n",
       "a:visited.sk-estimator-doc-link.fitted {\n",
       "  /* fitted */\n",
       "  border: var(--sklearn-color-fitted-level-1) 1pt solid;\n",
       "  color: var(--sklearn-color-fitted-level-1);\n",
       "}\n",
       "\n",
       "/* On hover */\n",
       "div.sk-estimator:hover .sk-estimator-doc-link:hover,\n",
       ".sk-estimator-doc-link:hover,\n",
       "div.sk-label-container:hover .sk-estimator-doc-link:hover,\n",
       ".sk-estimator-doc-link:hover {\n",
       "  /* unfitted */\n",
       "  background-color: var(--sklearn-color-unfitted-level-3);\n",
       "  color: var(--sklearn-color-background);\n",
       "  text-decoration: none;\n",
       "}\n",
       "\n",
       "div.sk-estimator.fitted:hover .sk-estimator-doc-link.fitted:hover,\n",
       ".sk-estimator-doc-link.fitted:hover,\n",
       "div.sk-label-container:hover .sk-estimator-doc-link.fitted:hover,\n",
       ".sk-estimator-doc-link.fitted:hover {\n",
       "  /* fitted */\n",
       "  background-color: var(--sklearn-color-fitted-level-3);\n",
       "  color: var(--sklearn-color-background);\n",
       "  text-decoration: none;\n",
       "}\n",
       "\n",
       "/* Span, style for the box shown on hovering the info icon */\n",
       ".sk-estimator-doc-link span {\n",
       "  display: none;\n",
       "  z-index: 9999;\n",
       "  position: relative;\n",
       "  font-weight: normal;\n",
       "  right: .2ex;\n",
       "  padding: .5ex;\n",
       "  margin: .5ex;\n",
       "  width: min-content;\n",
       "  min-width: 20ex;\n",
       "  max-width: 50ex;\n",
       "  color: var(--sklearn-color-text);\n",
       "  box-shadow: 2pt 2pt 4pt #999;\n",
       "  /* unfitted */\n",
       "  background: var(--sklearn-color-unfitted-level-0);\n",
       "  border: .5pt solid var(--sklearn-color-unfitted-level-3);\n",
       "}\n",
       "\n",
       ".sk-estimator-doc-link.fitted span {\n",
       "  /* fitted */\n",
       "  background: var(--sklearn-color-fitted-level-0);\n",
       "  border: var(--sklearn-color-fitted-level-3);\n",
       "}\n",
       "\n",
       ".sk-estimator-doc-link:hover span {\n",
       "  display: block;\n",
       "}\n",
       "\n",
       "/* \"?\"-specific style due to the `<a>` HTML tag */\n",
       "\n",
       "#sk-container-id-1 a.estimator_doc_link {\n",
       "  float: right;\n",
       "  font-size: 1rem;\n",
       "  line-height: 1em;\n",
       "  font-family: monospace;\n",
       "  background-color: var(--sklearn-color-background);\n",
       "  border-radius: 1rem;\n",
       "  height: 1rem;\n",
       "  width: 1rem;\n",
       "  text-decoration: none;\n",
       "  /* unfitted */\n",
       "  color: var(--sklearn-color-unfitted-level-1);\n",
       "  border: var(--sklearn-color-unfitted-level-1) 1pt solid;\n",
       "}\n",
       "\n",
       "#sk-container-id-1 a.estimator_doc_link.fitted {\n",
       "  /* fitted */\n",
       "  border: var(--sklearn-color-fitted-level-1) 1pt solid;\n",
       "  color: var(--sklearn-color-fitted-level-1);\n",
       "}\n",
       "\n",
       "/* On hover */\n",
       "#sk-container-id-1 a.estimator_doc_link:hover {\n",
       "  /* unfitted */\n",
       "  background-color: var(--sklearn-color-unfitted-level-3);\n",
       "  color: var(--sklearn-color-background);\n",
       "  text-decoration: none;\n",
       "}\n",
       "\n",
       "#sk-container-id-1 a.estimator_doc_link.fitted:hover {\n",
       "  /* fitted */\n",
       "  background-color: var(--sklearn-color-fitted-level-3);\n",
       "}\n",
       "</style><div id=\"sk-container-id-1\" class=\"sk-top-container\"><div class=\"sk-text-repr-fallback\"><pre>Pipeline(steps=[(&#x27;preprocessor&#x27;,\n",
       "                 ColumnTransformer(transformers=[(&#x27;cat&#x27;,\n",
       "                                                  Pipeline(steps=[(&#x27;onehot&#x27;,\n",
       "                                                                   OneHotEncoder(handle_unknown=&#x27;ignore&#x27;))]),\n",
       "                                                  Index([&#x27;ClientUUId&#x27;, &#x27;Id&#x27;, &#x27;OrderType&#x27;], dtype=&#x27;object&#x27;)),\n",
       "                                                 (&#x27;num&#x27;,\n",
       "                                                  Pipeline(steps=[(&#x27;scaler&#x27;,\n",
       "                                                                   StandardScaler())]),\n",
       "                                                  Index([&#x27;LocalBeginDate&#x27;, &#x27;LocalEndDate&#x27;, &#x27;OrderPrice&#x27;, &#x27;Discount&#x27;,\n",
       "       &#x27;total_orders&#x27;, &#x27;total_applied&#x27;, &#x27;total_promos&#x27;, &#x27;promo_usage&#x27;],\n",
       "      dtype=&#x27;object&#x27;))])),\n",
       "                (&#x27;classifier&#x27;,\n",
       "                 RandomForestRegressor(criterion=&#x27;poisson&#x27;, random_state=0))])</pre><b>In a Jupyter environment, please rerun this cell to show the HTML representation or trust the notebook. <br />On GitHub, the HTML representation is unable to render, please try loading this page with nbviewer.org.</b></div><div class=\"sk-container\" hidden><div class=\"sk-item sk-dashed-wrapped\"><div class=\"sk-label-container\"><div class=\"sk-label fitted sk-toggleable\"><input class=\"sk-toggleable__control sk-hidden--visually\" id=\"sk-estimator-id-1\" type=\"checkbox\" ><label for=\"sk-estimator-id-1\" class=\"sk-toggleable__label fitted sk-toggleable__label-arrow fitted\">&nbsp;&nbsp;Pipeline<a class=\"sk-estimator-doc-link fitted\" rel=\"noreferrer\" target=\"_blank\" href=\"https://scikit-learn.org/1.4/modules/generated/sklearn.pipeline.Pipeline.html\">?<span>Documentation for Pipeline</span></a><span class=\"sk-estimator-doc-link fitted\">i<span>Fitted</span></span></label><div class=\"sk-toggleable__content fitted\"><pre>Pipeline(steps=[(&#x27;preprocessor&#x27;,\n",
       "                 ColumnTransformer(transformers=[(&#x27;cat&#x27;,\n",
       "                                                  Pipeline(steps=[(&#x27;onehot&#x27;,\n",
       "                                                                   OneHotEncoder(handle_unknown=&#x27;ignore&#x27;))]),\n",
       "                                                  Index([&#x27;ClientUUId&#x27;, &#x27;Id&#x27;, &#x27;OrderType&#x27;], dtype=&#x27;object&#x27;)),\n",
       "                                                 (&#x27;num&#x27;,\n",
       "                                                  Pipeline(steps=[(&#x27;scaler&#x27;,\n",
       "                                                                   StandardScaler())]),\n",
       "                                                  Index([&#x27;LocalBeginDate&#x27;, &#x27;LocalEndDate&#x27;, &#x27;OrderPrice&#x27;, &#x27;Discount&#x27;,\n",
       "       &#x27;total_orders&#x27;, &#x27;total_applied&#x27;, &#x27;total_promos&#x27;, &#x27;promo_usage&#x27;],\n",
       "      dtype=&#x27;object&#x27;))])),\n",
       "                (&#x27;classifier&#x27;,\n",
       "                 RandomForestRegressor(criterion=&#x27;poisson&#x27;, random_state=0))])</pre></div> </div></div><div class=\"sk-serial\"><div class=\"sk-item sk-dashed-wrapped\"><div class=\"sk-label-container\"><div class=\"sk-label fitted sk-toggleable\"><input class=\"sk-toggleable__control sk-hidden--visually\" id=\"sk-estimator-id-2\" type=\"checkbox\" ><label for=\"sk-estimator-id-2\" class=\"sk-toggleable__label fitted sk-toggleable__label-arrow fitted\">&nbsp;preprocessor: ColumnTransformer<a class=\"sk-estimator-doc-link fitted\" rel=\"noreferrer\" target=\"_blank\" href=\"https://scikit-learn.org/1.4/modules/generated/sklearn.compose.ColumnTransformer.html\">?<span>Documentation for preprocessor: ColumnTransformer</span></a></label><div class=\"sk-toggleable__content fitted\"><pre>ColumnTransformer(transformers=[(&#x27;cat&#x27;,\n",
       "                                 Pipeline(steps=[(&#x27;onehot&#x27;,\n",
       "                                                  OneHotEncoder(handle_unknown=&#x27;ignore&#x27;))]),\n",
       "                                 Index([&#x27;ClientUUId&#x27;, &#x27;Id&#x27;, &#x27;OrderType&#x27;], dtype=&#x27;object&#x27;)),\n",
       "                                (&#x27;num&#x27;,\n",
       "                                 Pipeline(steps=[(&#x27;scaler&#x27;, StandardScaler())]),\n",
       "                                 Index([&#x27;LocalBeginDate&#x27;, &#x27;LocalEndDate&#x27;, &#x27;OrderPrice&#x27;, &#x27;Discount&#x27;,\n",
       "       &#x27;total_orders&#x27;, &#x27;total_applied&#x27;, &#x27;total_promos&#x27;, &#x27;promo_usage&#x27;],\n",
       "      dtype=&#x27;object&#x27;))])</pre></div> </div></div><div class=\"sk-parallel\"><div class=\"sk-parallel-item\"><div class=\"sk-item\"><div class=\"sk-label-container\"><div class=\"sk-label fitted sk-toggleable\"><input class=\"sk-toggleable__control sk-hidden--visually\" id=\"sk-estimator-id-3\" type=\"checkbox\" ><label for=\"sk-estimator-id-3\" class=\"sk-toggleable__label fitted sk-toggleable__label-arrow fitted\">cat</label><div class=\"sk-toggleable__content fitted\"><pre>Index([&#x27;ClientUUId&#x27;, &#x27;Id&#x27;, &#x27;OrderType&#x27;], dtype=&#x27;object&#x27;)</pre></div> </div></div><div class=\"sk-serial\"><div class=\"sk-item\"><div class=\"sk-serial\"><div class=\"sk-item\"><div class=\"sk-estimator fitted sk-toggleable\"><input class=\"sk-toggleable__control sk-hidden--visually\" id=\"sk-estimator-id-4\" type=\"checkbox\" ><label for=\"sk-estimator-id-4\" class=\"sk-toggleable__label fitted sk-toggleable__label-arrow fitted\">&nbsp;OneHotEncoder<a class=\"sk-estimator-doc-link fitted\" rel=\"noreferrer\" target=\"_blank\" href=\"https://scikit-learn.org/1.4/modules/generated/sklearn.preprocessing.OneHotEncoder.html\">?<span>Documentation for OneHotEncoder</span></a></label><div class=\"sk-toggleable__content fitted\"><pre>OneHotEncoder(handle_unknown=&#x27;ignore&#x27;)</pre></div> </div></div></div></div></div></div></div><div class=\"sk-parallel-item\"><div class=\"sk-item\"><div class=\"sk-label-container\"><div class=\"sk-label fitted sk-toggleable\"><input class=\"sk-toggleable__control sk-hidden--visually\" id=\"sk-estimator-id-5\" type=\"checkbox\" ><label for=\"sk-estimator-id-5\" class=\"sk-toggleable__label fitted sk-toggleable__label-arrow fitted\">num</label><div class=\"sk-toggleable__content fitted\"><pre>Index([&#x27;LocalBeginDate&#x27;, &#x27;LocalEndDate&#x27;, &#x27;OrderPrice&#x27;, &#x27;Discount&#x27;,\n",
       "       &#x27;total_orders&#x27;, &#x27;total_applied&#x27;, &#x27;total_promos&#x27;, &#x27;promo_usage&#x27;],\n",
       "      dtype=&#x27;object&#x27;)</pre></div> </div></div><div class=\"sk-serial\"><div class=\"sk-item\"><div class=\"sk-serial\"><div class=\"sk-item\"><div class=\"sk-estimator fitted sk-toggleable\"><input class=\"sk-toggleable__control sk-hidden--visually\" id=\"sk-estimator-id-6\" type=\"checkbox\" ><label for=\"sk-estimator-id-6\" class=\"sk-toggleable__label fitted sk-toggleable__label-arrow fitted\">&nbsp;StandardScaler<a class=\"sk-estimator-doc-link fitted\" rel=\"noreferrer\" target=\"_blank\" href=\"https://scikit-learn.org/1.4/modules/generated/sklearn.preprocessing.StandardScaler.html\">?<span>Documentation for StandardScaler</span></a></label><div class=\"sk-toggleable__content fitted\"><pre>StandardScaler()</pre></div> </div></div></div></div></div></div></div></div></div><div class=\"sk-item\"><div class=\"sk-estimator fitted sk-toggleable\"><input class=\"sk-toggleable__control sk-hidden--visually\" id=\"sk-estimator-id-7\" type=\"checkbox\" ><label for=\"sk-estimator-id-7\" class=\"sk-toggleable__label fitted sk-toggleable__label-arrow fitted\">&nbsp;RandomForestRegressor<a class=\"sk-estimator-doc-link fitted\" rel=\"noreferrer\" target=\"_blank\" href=\"https://scikit-learn.org/1.4/modules/generated/sklearn.ensemble.RandomForestRegressor.html\">?<span>Documentation for RandomForestRegressor</span></a></label><div class=\"sk-toggleable__content fitted\"><pre>RandomForestRegressor(criterion=&#x27;poisson&#x27;, random_state=0)</pre></div> </div></div></div></div></div></div>"
      ],
      "text/plain": [
       "Pipeline(steps=[('preprocessor',\n",
       "                 ColumnTransformer(transformers=[('cat',\n",
       "                                                  Pipeline(steps=[('onehot',\n",
       "                                                                   OneHotEncoder(handle_unknown='ignore'))]),\n",
       "                                                  Index(['ClientUUId', 'Id', 'OrderType'], dtype='object')),\n",
       "                                                 ('num',\n",
       "                                                  Pipeline(steps=[('scaler',\n",
       "                                                                   StandardScaler())]),\n",
       "                                                  Index(['LocalBeginDate', 'LocalEndDate', 'OrderPrice', 'Discount',\n",
       "       'total_orders', 'total_applied', 'total_promos', 'promo_usage'],\n",
       "      dtype='object'))])),\n",
       "                ('classifier',\n",
       "                 RandomForestRegressor(criterion='poisson', random_state=0))])"
      ]
     },
     "execution_count": 100,
     "metadata": {},
     "output_type": "execute_result"
    }
   ],
   "source": [
    "model.fit(X=X_train, y=y_train)"
   ]
  },
  {
   "cell_type": "code",
   "execution_count": 101,
   "metadata": {},
   "outputs": [],
   "source": [
    "y_test['prediction'] = model.predict(X=X_test)"
   ]
  },
  {
   "cell_type": "code",
   "execution_count": 102,
   "metadata": {},
   "outputs": [
    {
     "data": {
      "text/plain": [
       "prediction\n",
       "0.000210    852\n",
       "0.000489     77\n",
       "0.000238     72\n",
       "0.000278     42\n",
       "0.000353     39\n",
       "           ... \n",
       "0.000897      1\n",
       "0.001434      1\n",
       "0.032828      1\n",
       "0.000372      1\n",
       "0.011125      1\n",
       "Name: count, Length: 1899, dtype: int64"
      ]
     },
     "execution_count": 102,
     "metadata": {},
     "output_type": "execute_result"
    }
   ],
   "source": [
    "y_test['prediction'].value_counts()"
   ]
  },
  {
   "cell_type": "code",
   "execution_count": 103,
   "metadata": {},
   "outputs": [
    {
     "data": {
      "text/plain": [
       "0.9037984150559126"
      ]
     },
     "execution_count": 103,
     "metadata": {},
     "output_type": "execute_result"
    }
   ],
   "source": [
    "roc_auc = roc_auc_score(y_true=y_test['apply_promo'], y_score=y_test['prediction'])\n",
    "roc_auc"
   ]
  },
  {
   "cell_type": "markdown",
   "metadata": {},
   "source": [
    "# Calculating"
   ]
  },
  {
   "cell_type": "code",
   "execution_count": 112,
   "metadata": {},
   "outputs": [
    {
     "data": {
      "text/html": [
       "<style>#sk-container-id-3 {\n",
       "  /* Definition of color scheme common for light and dark mode */\n",
       "  --sklearn-color-text: black;\n",
       "  --sklearn-color-line: gray;\n",
       "  /* Definition of color scheme for unfitted estimators */\n",
       "  --sklearn-color-unfitted-level-0: #fff5e6;\n",
       "  --sklearn-color-unfitted-level-1: #f6e4d2;\n",
       "  --sklearn-color-unfitted-level-2: #ffe0b3;\n",
       "  --sklearn-color-unfitted-level-3: chocolate;\n",
       "  /* Definition of color scheme for fitted estimators */\n",
       "  --sklearn-color-fitted-level-0: #f0f8ff;\n",
       "  --sklearn-color-fitted-level-1: #d4ebff;\n",
       "  --sklearn-color-fitted-level-2: #b3dbfd;\n",
       "  --sklearn-color-fitted-level-3: cornflowerblue;\n",
       "\n",
       "  /* Specific color for light theme */\n",
       "  --sklearn-color-text-on-default-background: var(--sg-text-color, var(--theme-code-foreground, var(--jp-content-font-color1, black)));\n",
       "  --sklearn-color-background: var(--sg-background-color, var(--theme-background, var(--jp-layout-color0, white)));\n",
       "  --sklearn-color-border-box: var(--sg-text-color, var(--theme-code-foreground, var(--jp-content-font-color1, black)));\n",
       "  --sklearn-color-icon: #696969;\n",
       "\n",
       "  @media (prefers-color-scheme: dark) {\n",
       "    /* Redefinition of color scheme for dark theme */\n",
       "    --sklearn-color-text-on-default-background: var(--sg-text-color, var(--theme-code-foreground, var(--jp-content-font-color1, white)));\n",
       "    --sklearn-color-background: var(--sg-background-color, var(--theme-background, var(--jp-layout-color0, #111)));\n",
       "    --sklearn-color-border-box: var(--sg-text-color, var(--theme-code-foreground, var(--jp-content-font-color1, white)));\n",
       "    --sklearn-color-icon: #878787;\n",
       "  }\n",
       "}\n",
       "\n",
       "#sk-container-id-3 {\n",
       "  color: var(--sklearn-color-text);\n",
       "}\n",
       "\n",
       "#sk-container-id-3 pre {\n",
       "  padding: 0;\n",
       "}\n",
       "\n",
       "#sk-container-id-3 input.sk-hidden--visually {\n",
       "  border: 0;\n",
       "  clip: rect(1px 1px 1px 1px);\n",
       "  clip: rect(1px, 1px, 1px, 1px);\n",
       "  height: 1px;\n",
       "  margin: -1px;\n",
       "  overflow: hidden;\n",
       "  padding: 0;\n",
       "  position: absolute;\n",
       "  width: 1px;\n",
       "}\n",
       "\n",
       "#sk-container-id-3 div.sk-dashed-wrapped {\n",
       "  border: 1px dashed var(--sklearn-color-line);\n",
       "  margin: 0 0.4em 0.5em 0.4em;\n",
       "  box-sizing: border-box;\n",
       "  padding-bottom: 0.4em;\n",
       "  background-color: var(--sklearn-color-background);\n",
       "}\n",
       "\n",
       "#sk-container-id-3 div.sk-container {\n",
       "  /* jupyter's `normalize.less` sets `[hidden] { display: none; }`\n",
       "     but bootstrap.min.css set `[hidden] { display: none !important; }`\n",
       "     so we also need the `!important` here to be able to override the\n",
       "     default hidden behavior on the sphinx rendered scikit-learn.org.\n",
       "     See: https://github.com/scikit-learn/scikit-learn/issues/21755 */\n",
       "  display: inline-block !important;\n",
       "  position: relative;\n",
       "}\n",
       "\n",
       "#sk-container-id-3 div.sk-text-repr-fallback {\n",
       "  display: none;\n",
       "}\n",
       "\n",
       "div.sk-parallel-item,\n",
       "div.sk-serial,\n",
       "div.sk-item {\n",
       "  /* draw centered vertical line to link estimators */\n",
       "  background-image: linear-gradient(var(--sklearn-color-text-on-default-background), var(--sklearn-color-text-on-default-background));\n",
       "  background-size: 2px 100%;\n",
       "  background-repeat: no-repeat;\n",
       "  background-position: center center;\n",
       "}\n",
       "\n",
       "/* Parallel-specific style estimator block */\n",
       "\n",
       "#sk-container-id-3 div.sk-parallel-item::after {\n",
       "  content: \"\";\n",
       "  width: 100%;\n",
       "  border-bottom: 2px solid var(--sklearn-color-text-on-default-background);\n",
       "  flex-grow: 1;\n",
       "}\n",
       "\n",
       "#sk-container-id-3 div.sk-parallel {\n",
       "  display: flex;\n",
       "  align-items: stretch;\n",
       "  justify-content: center;\n",
       "  background-color: var(--sklearn-color-background);\n",
       "  position: relative;\n",
       "}\n",
       "\n",
       "#sk-container-id-3 div.sk-parallel-item {\n",
       "  display: flex;\n",
       "  flex-direction: column;\n",
       "}\n",
       "\n",
       "#sk-container-id-3 div.sk-parallel-item:first-child::after {\n",
       "  align-self: flex-end;\n",
       "  width: 50%;\n",
       "}\n",
       "\n",
       "#sk-container-id-3 div.sk-parallel-item:last-child::after {\n",
       "  align-self: flex-start;\n",
       "  width: 50%;\n",
       "}\n",
       "\n",
       "#sk-container-id-3 div.sk-parallel-item:only-child::after {\n",
       "  width: 0;\n",
       "}\n",
       "\n",
       "/* Serial-specific style estimator block */\n",
       "\n",
       "#sk-container-id-3 div.sk-serial {\n",
       "  display: flex;\n",
       "  flex-direction: column;\n",
       "  align-items: center;\n",
       "  background-color: var(--sklearn-color-background);\n",
       "  padding-right: 1em;\n",
       "  padding-left: 1em;\n",
       "}\n",
       "\n",
       "\n",
       "/* Toggleable style: style used for estimator/Pipeline/ColumnTransformer box that is\n",
       "clickable and can be expanded/collapsed.\n",
       "- Pipeline and ColumnTransformer use this feature and define the default style\n",
       "- Estimators will overwrite some part of the style using the `sk-estimator` class\n",
       "*/\n",
       "\n",
       "/* Pipeline and ColumnTransformer style (default) */\n",
       "\n",
       "#sk-container-id-3 div.sk-toggleable {\n",
       "  /* Default theme specific background. It is overwritten whether we have a\n",
       "  specific estimator or a Pipeline/ColumnTransformer */\n",
       "  background-color: var(--sklearn-color-background);\n",
       "}\n",
       "\n",
       "/* Toggleable label */\n",
       "#sk-container-id-3 label.sk-toggleable__label {\n",
       "  cursor: pointer;\n",
       "  display: block;\n",
       "  width: 100%;\n",
       "  margin-bottom: 0;\n",
       "  padding: 0.5em;\n",
       "  box-sizing: border-box;\n",
       "  text-align: center;\n",
       "}\n",
       "\n",
       "#sk-container-id-3 label.sk-toggleable__label-arrow:before {\n",
       "  /* Arrow on the left of the label */\n",
       "  content: \"▸\";\n",
       "  float: left;\n",
       "  margin-right: 0.25em;\n",
       "  color: var(--sklearn-color-icon);\n",
       "}\n",
       "\n",
       "#sk-container-id-3 label.sk-toggleable__label-arrow:hover:before {\n",
       "  color: var(--sklearn-color-text);\n",
       "}\n",
       "\n",
       "/* Toggleable content - dropdown */\n",
       "\n",
       "#sk-container-id-3 div.sk-toggleable__content {\n",
       "  max-height: 0;\n",
       "  max-width: 0;\n",
       "  overflow: hidden;\n",
       "  text-align: left;\n",
       "  /* unfitted */\n",
       "  background-color: var(--sklearn-color-unfitted-level-0);\n",
       "}\n",
       "\n",
       "#sk-container-id-3 div.sk-toggleable__content.fitted {\n",
       "  /* fitted */\n",
       "  background-color: var(--sklearn-color-fitted-level-0);\n",
       "}\n",
       "\n",
       "#sk-container-id-3 div.sk-toggleable__content pre {\n",
       "  margin: 0.2em;\n",
       "  border-radius: 0.25em;\n",
       "  color: var(--sklearn-color-text);\n",
       "  /* unfitted */\n",
       "  background-color: var(--sklearn-color-unfitted-level-0);\n",
       "}\n",
       "\n",
       "#sk-container-id-3 div.sk-toggleable__content.fitted pre {\n",
       "  /* unfitted */\n",
       "  background-color: var(--sklearn-color-fitted-level-0);\n",
       "}\n",
       "\n",
       "#sk-container-id-3 input.sk-toggleable__control:checked~div.sk-toggleable__content {\n",
       "  /* Expand drop-down */\n",
       "  max-height: 200px;\n",
       "  max-width: 100%;\n",
       "  overflow: auto;\n",
       "}\n",
       "\n",
       "#sk-container-id-3 input.sk-toggleable__control:checked~label.sk-toggleable__label-arrow:before {\n",
       "  content: \"▾\";\n",
       "}\n",
       "\n",
       "/* Pipeline/ColumnTransformer-specific style */\n",
       "\n",
       "#sk-container-id-3 div.sk-label input.sk-toggleable__control:checked~label.sk-toggleable__label {\n",
       "  color: var(--sklearn-color-text);\n",
       "  background-color: var(--sklearn-color-unfitted-level-2);\n",
       "}\n",
       "\n",
       "#sk-container-id-3 div.sk-label.fitted input.sk-toggleable__control:checked~label.sk-toggleable__label {\n",
       "  background-color: var(--sklearn-color-fitted-level-2);\n",
       "}\n",
       "\n",
       "/* Estimator-specific style */\n",
       "\n",
       "/* Colorize estimator box */\n",
       "#sk-container-id-3 div.sk-estimator input.sk-toggleable__control:checked~label.sk-toggleable__label {\n",
       "  /* unfitted */\n",
       "  background-color: var(--sklearn-color-unfitted-level-2);\n",
       "}\n",
       "\n",
       "#sk-container-id-3 div.sk-estimator.fitted input.sk-toggleable__control:checked~label.sk-toggleable__label {\n",
       "  /* fitted */\n",
       "  background-color: var(--sklearn-color-fitted-level-2);\n",
       "}\n",
       "\n",
       "#sk-container-id-3 div.sk-label label.sk-toggleable__label,\n",
       "#sk-container-id-3 div.sk-label label {\n",
       "  /* The background is the default theme color */\n",
       "  color: var(--sklearn-color-text-on-default-background);\n",
       "}\n",
       "\n",
       "/* On hover, darken the color of the background */\n",
       "#sk-container-id-3 div.sk-label:hover label.sk-toggleable__label {\n",
       "  color: var(--sklearn-color-text);\n",
       "  background-color: var(--sklearn-color-unfitted-level-2);\n",
       "}\n",
       "\n",
       "/* Label box, darken color on hover, fitted */\n",
       "#sk-container-id-3 div.sk-label.fitted:hover label.sk-toggleable__label.fitted {\n",
       "  color: var(--sklearn-color-text);\n",
       "  background-color: var(--sklearn-color-fitted-level-2);\n",
       "}\n",
       "\n",
       "/* Estimator label */\n",
       "\n",
       "#sk-container-id-3 div.sk-label label {\n",
       "  font-family: monospace;\n",
       "  font-weight: bold;\n",
       "  display: inline-block;\n",
       "  line-height: 1.2em;\n",
       "}\n",
       "\n",
       "#sk-container-id-3 div.sk-label-container {\n",
       "  text-align: center;\n",
       "}\n",
       "\n",
       "/* Estimator-specific */\n",
       "#sk-container-id-3 div.sk-estimator {\n",
       "  font-family: monospace;\n",
       "  border: 1px dotted var(--sklearn-color-border-box);\n",
       "  border-radius: 0.25em;\n",
       "  box-sizing: border-box;\n",
       "  margin-bottom: 0.5em;\n",
       "  /* unfitted */\n",
       "  background-color: var(--sklearn-color-unfitted-level-0);\n",
       "}\n",
       "\n",
       "#sk-container-id-3 div.sk-estimator.fitted {\n",
       "  /* fitted */\n",
       "  background-color: var(--sklearn-color-fitted-level-0);\n",
       "}\n",
       "\n",
       "/* on hover */\n",
       "#sk-container-id-3 div.sk-estimator:hover {\n",
       "  /* unfitted */\n",
       "  background-color: var(--sklearn-color-unfitted-level-2);\n",
       "}\n",
       "\n",
       "#sk-container-id-3 div.sk-estimator.fitted:hover {\n",
       "  /* fitted */\n",
       "  background-color: var(--sklearn-color-fitted-level-2);\n",
       "}\n",
       "\n",
       "/* Specification for estimator info (e.g. \"i\" and \"?\") */\n",
       "\n",
       "/* Common style for \"i\" and \"?\" */\n",
       "\n",
       ".sk-estimator-doc-link,\n",
       "a:link.sk-estimator-doc-link,\n",
       "a:visited.sk-estimator-doc-link {\n",
       "  float: right;\n",
       "  font-size: smaller;\n",
       "  line-height: 1em;\n",
       "  font-family: monospace;\n",
       "  background-color: var(--sklearn-color-background);\n",
       "  border-radius: 1em;\n",
       "  height: 1em;\n",
       "  width: 1em;\n",
       "  text-decoration: none !important;\n",
       "  margin-left: 1ex;\n",
       "  /* unfitted */\n",
       "  border: var(--sklearn-color-unfitted-level-1) 1pt solid;\n",
       "  color: var(--sklearn-color-unfitted-level-1);\n",
       "}\n",
       "\n",
       ".sk-estimator-doc-link.fitted,\n",
       "a:link.sk-estimator-doc-link.fitted,\n",
       "a:visited.sk-estimator-doc-link.fitted {\n",
       "  /* fitted */\n",
       "  border: var(--sklearn-color-fitted-level-1) 1pt solid;\n",
       "  color: var(--sklearn-color-fitted-level-1);\n",
       "}\n",
       "\n",
       "/* On hover */\n",
       "div.sk-estimator:hover .sk-estimator-doc-link:hover,\n",
       ".sk-estimator-doc-link:hover,\n",
       "div.sk-label-container:hover .sk-estimator-doc-link:hover,\n",
       ".sk-estimator-doc-link:hover {\n",
       "  /* unfitted */\n",
       "  background-color: var(--sklearn-color-unfitted-level-3);\n",
       "  color: var(--sklearn-color-background);\n",
       "  text-decoration: none;\n",
       "}\n",
       "\n",
       "div.sk-estimator.fitted:hover .sk-estimator-doc-link.fitted:hover,\n",
       ".sk-estimator-doc-link.fitted:hover,\n",
       "div.sk-label-container:hover .sk-estimator-doc-link.fitted:hover,\n",
       ".sk-estimator-doc-link.fitted:hover {\n",
       "  /* fitted */\n",
       "  background-color: var(--sklearn-color-fitted-level-3);\n",
       "  color: var(--sklearn-color-background);\n",
       "  text-decoration: none;\n",
       "}\n",
       "\n",
       "/* Span, style for the box shown on hovering the info icon */\n",
       ".sk-estimator-doc-link span {\n",
       "  display: none;\n",
       "  z-index: 9999;\n",
       "  position: relative;\n",
       "  font-weight: normal;\n",
       "  right: .2ex;\n",
       "  padding: .5ex;\n",
       "  margin: .5ex;\n",
       "  width: min-content;\n",
       "  min-width: 20ex;\n",
       "  max-width: 50ex;\n",
       "  color: var(--sklearn-color-text);\n",
       "  box-shadow: 2pt 2pt 4pt #999;\n",
       "  /* unfitted */\n",
       "  background: var(--sklearn-color-unfitted-level-0);\n",
       "  border: .5pt solid var(--sklearn-color-unfitted-level-3);\n",
       "}\n",
       "\n",
       ".sk-estimator-doc-link.fitted span {\n",
       "  /* fitted */\n",
       "  background: var(--sklearn-color-fitted-level-0);\n",
       "  border: var(--sklearn-color-fitted-level-3);\n",
       "}\n",
       "\n",
       ".sk-estimator-doc-link:hover span {\n",
       "  display: block;\n",
       "}\n",
       "\n",
       "/* \"?\"-specific style due to the `<a>` HTML tag */\n",
       "\n",
       "#sk-container-id-3 a.estimator_doc_link {\n",
       "  float: right;\n",
       "  font-size: 1rem;\n",
       "  line-height: 1em;\n",
       "  font-family: monospace;\n",
       "  background-color: var(--sklearn-color-background);\n",
       "  border-radius: 1rem;\n",
       "  height: 1rem;\n",
       "  width: 1rem;\n",
       "  text-decoration: none;\n",
       "  /* unfitted */\n",
       "  color: var(--sklearn-color-unfitted-level-1);\n",
       "  border: var(--sklearn-color-unfitted-level-1) 1pt solid;\n",
       "}\n",
       "\n",
       "#sk-container-id-3 a.estimator_doc_link.fitted {\n",
       "  /* fitted */\n",
       "  border: var(--sklearn-color-fitted-level-1) 1pt solid;\n",
       "  color: var(--sklearn-color-fitted-level-1);\n",
       "}\n",
       "\n",
       "/* On hover */\n",
       "#sk-container-id-3 a.estimator_doc_link:hover {\n",
       "  /* unfitted */\n",
       "  background-color: var(--sklearn-color-unfitted-level-3);\n",
       "  color: var(--sklearn-color-background);\n",
       "  text-decoration: none;\n",
       "}\n",
       "\n",
       "#sk-container-id-3 a.estimator_doc_link.fitted:hover {\n",
       "  /* fitted */\n",
       "  background-color: var(--sklearn-color-fitted-level-3);\n",
       "}\n",
       "</style><div id=\"sk-container-id-3\" class=\"sk-top-container\"><div class=\"sk-text-repr-fallback\"><pre>Pipeline(steps=[(&#x27;preprocessor&#x27;,\n",
       "                 ColumnTransformer(transformers=[(&#x27;cat&#x27;,\n",
       "                                                  Pipeline(steps=[(&#x27;onehot&#x27;,\n",
       "                                                                   OneHotEncoder(handle_unknown=&#x27;ignore&#x27;))]),\n",
       "                                                  Index([&#x27;ClientUUId&#x27;, &#x27;Id&#x27;, &#x27;OrderType&#x27;], dtype=&#x27;object&#x27;)),\n",
       "                                                 (&#x27;num&#x27;,\n",
       "                                                  Pipeline(steps=[(&#x27;scaler&#x27;,\n",
       "                                                                   StandardScaler())]),\n",
       "                                                  Index([&#x27;LocalBeginDate&#x27;, &#x27;LocalEndDate&#x27;, &#x27;OrderPrice&#x27;, &#x27;Discount&#x27;,\n",
       "       &#x27;total_orders&#x27;, &#x27;total_applied&#x27;, &#x27;total_promos&#x27;, &#x27;promo_usage&#x27;],\n",
       "      dtype=&#x27;object&#x27;))])),\n",
       "                (&#x27;classifier&#x27;,\n",
       "                 RandomForestRegressor(criterion=&#x27;poisson&#x27;, random_state=42))])</pre><b>In a Jupyter environment, please rerun this cell to show the HTML representation or trust the notebook. <br />On GitHub, the HTML representation is unable to render, please try loading this page with nbviewer.org.</b></div><div class=\"sk-container\" hidden><div class=\"sk-item sk-dashed-wrapped\"><div class=\"sk-label-container\"><div class=\"sk-label fitted sk-toggleable\"><input class=\"sk-toggleable__control sk-hidden--visually\" id=\"sk-estimator-id-15\" type=\"checkbox\" ><label for=\"sk-estimator-id-15\" class=\"sk-toggleable__label fitted sk-toggleable__label-arrow fitted\">&nbsp;&nbsp;Pipeline<a class=\"sk-estimator-doc-link fitted\" rel=\"noreferrer\" target=\"_blank\" href=\"https://scikit-learn.org/1.4/modules/generated/sklearn.pipeline.Pipeline.html\">?<span>Documentation for Pipeline</span></a><span class=\"sk-estimator-doc-link fitted\">i<span>Fitted</span></span></label><div class=\"sk-toggleable__content fitted\"><pre>Pipeline(steps=[(&#x27;preprocessor&#x27;,\n",
       "                 ColumnTransformer(transformers=[(&#x27;cat&#x27;,\n",
       "                                                  Pipeline(steps=[(&#x27;onehot&#x27;,\n",
       "                                                                   OneHotEncoder(handle_unknown=&#x27;ignore&#x27;))]),\n",
       "                                                  Index([&#x27;ClientUUId&#x27;, &#x27;Id&#x27;, &#x27;OrderType&#x27;], dtype=&#x27;object&#x27;)),\n",
       "                                                 (&#x27;num&#x27;,\n",
       "                                                  Pipeline(steps=[(&#x27;scaler&#x27;,\n",
       "                                                                   StandardScaler())]),\n",
       "                                                  Index([&#x27;LocalBeginDate&#x27;, &#x27;LocalEndDate&#x27;, &#x27;OrderPrice&#x27;, &#x27;Discount&#x27;,\n",
       "       &#x27;total_orders&#x27;, &#x27;total_applied&#x27;, &#x27;total_promos&#x27;, &#x27;promo_usage&#x27;],\n",
       "      dtype=&#x27;object&#x27;))])),\n",
       "                (&#x27;classifier&#x27;,\n",
       "                 RandomForestRegressor(criterion=&#x27;poisson&#x27;, random_state=42))])</pre></div> </div></div><div class=\"sk-serial\"><div class=\"sk-item sk-dashed-wrapped\"><div class=\"sk-label-container\"><div class=\"sk-label fitted sk-toggleable\"><input class=\"sk-toggleable__control sk-hidden--visually\" id=\"sk-estimator-id-16\" type=\"checkbox\" ><label for=\"sk-estimator-id-16\" class=\"sk-toggleable__label fitted sk-toggleable__label-arrow fitted\">&nbsp;preprocessor: ColumnTransformer<a class=\"sk-estimator-doc-link fitted\" rel=\"noreferrer\" target=\"_blank\" href=\"https://scikit-learn.org/1.4/modules/generated/sklearn.compose.ColumnTransformer.html\">?<span>Documentation for preprocessor: ColumnTransformer</span></a></label><div class=\"sk-toggleable__content fitted\"><pre>ColumnTransformer(transformers=[(&#x27;cat&#x27;,\n",
       "                                 Pipeline(steps=[(&#x27;onehot&#x27;,\n",
       "                                                  OneHotEncoder(handle_unknown=&#x27;ignore&#x27;))]),\n",
       "                                 Index([&#x27;ClientUUId&#x27;, &#x27;Id&#x27;, &#x27;OrderType&#x27;], dtype=&#x27;object&#x27;)),\n",
       "                                (&#x27;num&#x27;,\n",
       "                                 Pipeline(steps=[(&#x27;scaler&#x27;, StandardScaler())]),\n",
       "                                 Index([&#x27;LocalBeginDate&#x27;, &#x27;LocalEndDate&#x27;, &#x27;OrderPrice&#x27;, &#x27;Discount&#x27;,\n",
       "       &#x27;total_orders&#x27;, &#x27;total_applied&#x27;, &#x27;total_promos&#x27;, &#x27;promo_usage&#x27;],\n",
       "      dtype=&#x27;object&#x27;))])</pre></div> </div></div><div class=\"sk-parallel\"><div class=\"sk-parallel-item\"><div class=\"sk-item\"><div class=\"sk-label-container\"><div class=\"sk-label fitted sk-toggleable\"><input class=\"sk-toggleable__control sk-hidden--visually\" id=\"sk-estimator-id-17\" type=\"checkbox\" ><label for=\"sk-estimator-id-17\" class=\"sk-toggleable__label fitted sk-toggleable__label-arrow fitted\">cat</label><div class=\"sk-toggleable__content fitted\"><pre>Index([&#x27;ClientUUId&#x27;, &#x27;Id&#x27;, &#x27;OrderType&#x27;], dtype=&#x27;object&#x27;)</pre></div> </div></div><div class=\"sk-serial\"><div class=\"sk-item\"><div class=\"sk-serial\"><div class=\"sk-item\"><div class=\"sk-estimator fitted sk-toggleable\"><input class=\"sk-toggleable__control sk-hidden--visually\" id=\"sk-estimator-id-18\" type=\"checkbox\" ><label for=\"sk-estimator-id-18\" class=\"sk-toggleable__label fitted sk-toggleable__label-arrow fitted\">&nbsp;OneHotEncoder<a class=\"sk-estimator-doc-link fitted\" rel=\"noreferrer\" target=\"_blank\" href=\"https://scikit-learn.org/1.4/modules/generated/sklearn.preprocessing.OneHotEncoder.html\">?<span>Documentation for OneHotEncoder</span></a></label><div class=\"sk-toggleable__content fitted\"><pre>OneHotEncoder(handle_unknown=&#x27;ignore&#x27;)</pre></div> </div></div></div></div></div></div></div><div class=\"sk-parallel-item\"><div class=\"sk-item\"><div class=\"sk-label-container\"><div class=\"sk-label fitted sk-toggleable\"><input class=\"sk-toggleable__control sk-hidden--visually\" id=\"sk-estimator-id-19\" type=\"checkbox\" ><label for=\"sk-estimator-id-19\" class=\"sk-toggleable__label fitted sk-toggleable__label-arrow fitted\">num</label><div class=\"sk-toggleable__content fitted\"><pre>Index([&#x27;LocalBeginDate&#x27;, &#x27;LocalEndDate&#x27;, &#x27;OrderPrice&#x27;, &#x27;Discount&#x27;,\n",
       "       &#x27;total_orders&#x27;, &#x27;total_applied&#x27;, &#x27;total_promos&#x27;, &#x27;promo_usage&#x27;],\n",
       "      dtype=&#x27;object&#x27;)</pre></div> </div></div><div class=\"sk-serial\"><div class=\"sk-item\"><div class=\"sk-serial\"><div class=\"sk-item\"><div class=\"sk-estimator fitted sk-toggleable\"><input class=\"sk-toggleable__control sk-hidden--visually\" id=\"sk-estimator-id-20\" type=\"checkbox\" ><label for=\"sk-estimator-id-20\" class=\"sk-toggleable__label fitted sk-toggleable__label-arrow fitted\">&nbsp;StandardScaler<a class=\"sk-estimator-doc-link fitted\" rel=\"noreferrer\" target=\"_blank\" href=\"https://scikit-learn.org/1.4/modules/generated/sklearn.preprocessing.StandardScaler.html\">?<span>Documentation for StandardScaler</span></a></label><div class=\"sk-toggleable__content fitted\"><pre>StandardScaler()</pre></div> </div></div></div></div></div></div></div></div></div><div class=\"sk-item\"><div class=\"sk-estimator fitted sk-toggleable\"><input class=\"sk-toggleable__control sk-hidden--visually\" id=\"sk-estimator-id-21\" type=\"checkbox\" ><label for=\"sk-estimator-id-21\" class=\"sk-toggleable__label fitted sk-toggleable__label-arrow fitted\">&nbsp;RandomForestRegressor<a class=\"sk-estimator-doc-link fitted\" rel=\"noreferrer\" target=\"_blank\" href=\"https://scikit-learn.org/1.4/modules/generated/sklearn.ensemble.RandomForestRegressor.html\">?<span>Documentation for RandomForestRegressor</span></a></label><div class=\"sk-toggleable__content fitted\"><pre>RandomForestRegressor(criterion=&#x27;poisson&#x27;, random_state=42)</pre></div> </div></div></div></div></div></div>"
      ],
      "text/plain": [
       "Pipeline(steps=[('preprocessor',\n",
       "                 ColumnTransformer(transformers=[('cat',\n",
       "                                                  Pipeline(steps=[('onehot',\n",
       "                                                                   OneHotEncoder(handle_unknown='ignore'))]),\n",
       "                                                  Index(['ClientUUId', 'Id', 'OrderType'], dtype='object')),\n",
       "                                                 ('num',\n",
       "                                                  Pipeline(steps=[('scaler',\n",
       "                                                                   StandardScaler())]),\n",
       "                                                  Index(['LocalBeginDate', 'LocalEndDate', 'OrderPrice', 'Discount',\n",
       "       'total_orders', 'total_applied', 'total_promos', 'promo_usage'],\n",
       "      dtype='object'))])),\n",
       "                ('classifier',\n",
       "                 RandomForestRegressor(criterion='poisson', random_state=42))])"
      ]
     },
     "execution_count": 112,
     "metadata": {},
     "output_type": "execute_result"
    }
   ],
   "source": [
    "model.fit(X=X, y=y)"
   ]
  },
  {
   "cell_type": "code",
   "execution_count": 113,
   "metadata": {},
   "outputs": [],
   "source": [
    "X_test_res = test_val[FEATURES]"
   ]
  },
  {
   "cell_type": "code",
   "execution_count": 114,
   "metadata": {},
   "outputs": [],
   "source": [
    "result = pd.DataFrame(data=model.predict(X=X_test_res), columns=['apply_promo']).set_index('apply_promo')"
   ]
  },
  {
   "cell_type": "code",
   "execution_count": 115,
   "metadata": {},
   "outputs": [
    {
     "data": {
      "text/html": [
       "<div>\n",
       "<style scoped>\n",
       "    .dataframe tbody tr th:only-of-type {\n",
       "        vertical-align: middle;\n",
       "    }\n",
       "\n",
       "    .dataframe tbody tr th {\n",
       "        vertical-align: top;\n",
       "    }\n",
       "\n",
       "    .dataframe thead th {\n",
       "        text-align: right;\n",
       "    }\n",
       "</style>\n",
       "<table border=\"1\" class=\"dataframe\">\n",
       "  <thead>\n",
       "    <tr style=\"text-align: right;\">\n",
       "      <th></th>\n",
       "    </tr>\n",
       "    <tr>\n",
       "      <th>apply_promo</th>\n",
       "    </tr>\n",
       "  </thead>\n",
       "  <tbody>\n",
       "    <tr>\n",
       "      <th>0.001203</th>\n",
       "    </tr>\n",
       "    <tr>\n",
       "      <th>0.006885</th>\n",
       "    </tr>\n",
       "    <tr>\n",
       "      <th>0.000527</th>\n",
       "    </tr>\n",
       "    <tr>\n",
       "      <th>0.000636</th>\n",
       "    </tr>\n",
       "    <tr>\n",
       "      <th>0.001407</th>\n",
       "    </tr>\n",
       "  </tbody>\n",
       "</table>\n",
       "</div>"
      ],
      "text/plain": [
       "Empty DataFrame\n",
       "Columns: []\n",
       "Index: [0.0012034982277110832, 0.006885292147500865, 0.0005273001870498622, 0.0006360627328551784, 0.0014073103416622917]"
      ]
     },
     "execution_count": 115,
     "metadata": {},
     "output_type": "execute_result"
    }
   ],
   "source": [
    "result.head()"
   ]
  },
  {
   "cell_type": "code",
   "execution_count": 116,
   "metadata": {},
   "outputs": [
    {
     "data": {
      "text/plain": [
       "(0.42882347462106357, 0.00016688688699062801)"
      ]
     },
     "execution_count": 116,
     "metadata": {},
     "output_type": "execute_result"
    }
   ],
   "source": [
    "result.index.max(), result.index.min()"
   ]
  },
  {
   "cell_type": "code",
   "execution_count": 117,
   "metadata": {},
   "outputs": [],
   "source": [
    "result.to_csv(path_or_buf=r'data\\result.csv', mode='w')"
   ]
  },
  {
   "cell_type": "code",
   "execution_count": null,
   "metadata": {},
   "outputs": [],
   "source": []
  }
 ],
 "metadata": {
  "kernelspec": {
   "display_name": "base",
   "language": "python",
   "name": "python3"
  },
  "language_info": {
   "codemirror_mode": {
    "name": "ipython",
    "version": 3
   },
   "file_extension": ".py",
   "mimetype": "text/x-python",
   "name": "python",
   "nbconvert_exporter": "python",
   "pygments_lexer": "ipython3",
   "version": "3.9.12"
  }
 },
 "nbformat": 4,
 "nbformat_minor": 2
}
